{
 "cells": [
  {
   "cell_type": "code",
   "execution_count": 1,
   "metadata": {},
   "outputs": [],
   "source": [
    "# data.place_with_parent_names.str.split('|',expand=True).iloc[:,1:6].rename(columns={1: 'Pais', 2: 'Provincia',3:'Barrio',4:'Localidad',5:'5'})\n"
   ]
  },
  {
   "cell_type": "markdown",
   "metadata": {},
   "source": [
    "# Primer acercamiento al dataset\n",
    "\n",
    "En la primera instancia, importamos las librerías que vamos a utilizar para nuestro análisis con sus respectivos alias. De allí obtendremos las funciones y herramientas necesarias para trabajar sobre el dataset propuesto para este trabajo.\n",
    "\n",
    "Luego, con la función read_csv() de Pandas, asignamos a un DataFrame el dataset y empezamos a explorar sus dimensiones, contenido y tipo de datos que contiene. Algo a destacar es que los tipos de datos de las columnas parecieran ser los correctos: las columnas que contienen datos numéricos son float64 (con excepción de la columna \"lat-lon\" que contiene caracteres no numéricos) y el resto son object, es decir, strings de acuerdo a lo que interpreta Pandas. Esto nos ahorra el paso de tener que hacer la conversión de formatos."
   ]
  },
  {
   "cell_type": "code",
   "execution_count": 2,
   "metadata": {},
   "outputs": [],
   "source": [
    "# Importamos las librerías que vamos a usar para el análisis.\n",
    "\n",
    "import numpy as np\n",
    "import pandas as pd\n",
    "import matplotlib.pyplot as plt\n",
    "import seaborn as sns\n",
    "import re"
   ]
  },
  {
   "cell_type": "code",
   "execution_count": 3,
   "metadata": {},
   "outputs": [],
   "source": [
    "# Importamos el dataset y lo asignamos a un DataFrame.\n",
    "\n",
    "data = pd.read_csv('properati.csv', index_col='Unnamed: 0')"
   ]
  },
  {
   "cell_type": "code",
   "execution_count": 4,
   "metadata": {},
   "outputs": [
    {
     "data": {
      "text/plain": [
       "(121220, 25)"
      ]
     },
     "execution_count": 4,
     "metadata": {},
     "output_type": "execute_result"
    }
   ],
   "source": [
    "# Dimensiones del DataFrame.\n",
    "\n",
    "data.shape"
   ]
  },
  {
   "cell_type": "code",
   "execution_count": 5,
   "metadata": {
    "scrolled": true
   },
   "outputs": [
    {
     "name": "stdout",
     "output_type": "stream",
     "text": [
      "<class 'pandas.core.frame.DataFrame'>\n",
      "Int64Index: 121220 entries, 0 to 121219\n",
      "Data columns (total 25 columns):\n",
      " #   Column                      Non-Null Count   Dtype  \n",
      "---  ------                      --------------   -----  \n",
      " 0   operation                   121220 non-null  object \n",
      " 1   property_type               121220 non-null  object \n",
      " 2   place_name                  121197 non-null  object \n",
      " 3   place_with_parent_names     121220 non-null  object \n",
      " 4   country_name                121220 non-null  object \n",
      " 5   state_name                  121220 non-null  object \n",
      " 6   geonames_id                 102503 non-null  float64\n",
      " 7   lat-lon                     69670 non-null   object \n",
      " 8   lat                         69670 non-null   float64\n",
      " 9   lon                         69670 non-null   float64\n",
      " 10  price                       100810 non-null  float64\n",
      " 11  currency                    100809 non-null  object \n",
      " 12  price_aprox_local_currency  100810 non-null  float64\n",
      " 13  price_aprox_usd             100810 non-null  float64\n",
      " 14  surface_total_in_m2         81892 non-null   float64\n",
      " 15  surface_covered_in_m2       101313 non-null  float64\n",
      " 16  price_usd_per_m2            68617 non-null   float64\n",
      " 17  price_per_m2                87658 non-null   float64\n",
      " 18  floor                       7899 non-null    float64\n",
      " 19  rooms                       47390 non-null   float64\n",
      " 20  expenses                    14262 non-null   float64\n",
      " 21  properati_url               121220 non-null  object \n",
      " 22  description                 121218 non-null  object \n",
      " 23  title                       121220 non-null  object \n",
      " 24  image_thumbnail             118108 non-null  object \n",
      "dtypes: float64(13), object(12)\n",
      "memory usage: 24.0+ MB\n"
     ]
    }
   ],
   "source": [
    "# Nombres de las columnas y tipos de datos que contienen.\n",
    "\n",
    "data.info()"
   ]
  },
  {
   "cell_type": "markdown",
   "metadata": {},
   "source": [
    "## Modificación de campos y dropeo de columnas\n",
    "\n",
    "Para poder trabajar con mayor comodidad y mejorar la legibilidad del código, optamos por cambiar el nombre de las columnas por sus respectivas traducciones al español. Luego, con la función drop() descartamos las columnas que creemos que no vamos a utilizar: 'Operación', 'Latitud-Longitud', 'Latitud', 'Longitud', 'ID geonombre', 'URL Propierati', 'Thumbnail imagen'.\n",
    "\n",
    "Tomamos esta decisión porque Operación es redundante, ya que en el 100% de los casos se trata de operaciones de venta, e ID Geonombre, URL Propierati y Thumbnail imagen son datos que no nos ayudan en lo predictivo ni en completar posibles valores faltantes. En el caso de las de latitud y longitud, si bien hicimos un chequeo de sus contenidos en caso de necesitarlos para el desafío de Machine Learning, consideramos que para el análisis actual es innecesario (incorporamos el código comentado al final de la notebook).\n",
    "\n",
    "Además, analizamos las filas duplicadas y dropeamos las que aparecen más de una vez. Optamos por quedarnos con la primera instancia de cada una."
   ]
  },
  {
   "cell_type": "code",
   "execution_count": 6,
   "metadata": {},
   "outputs": [],
   "source": [
    "# Reasignación de nombres de columnas.\n",
    "\n",
    "data.columns = ['Operación', 'Tipo de propiedad', 'Localidad', 'Localidad con nombres',\n",
    "       'País', 'Provincia', 'ID geonombre', 'Latitud-longitud', 'Latitud', 'Longitud',\n",
    "       'Precio', 'Moneda', 'Precio aproximado ($)', 'Precio aproximado (U$S)',\n",
    "       'Superficie total en m2', 'Superficie cubierta en m2', 'Precio U$S por m2',\n",
    "       'Precio por m2', 'Piso', 'Habitaciones', 'Expensas', 'URL Propierati',\n",
    "       'Descripción', 'Título', 'Thumbnail imagen']"
   ]
  },
  {
   "cell_type": "code",
   "execution_count": 7,
   "metadata": {
    "scrolled": true
   },
   "outputs": [
    {
     "data": {
      "text/html": [
       "<div>\n",
       "<style scoped>\n",
       "    .dataframe tbody tr th:only-of-type {\n",
       "        vertical-align: middle;\n",
       "    }\n",
       "\n",
       "    .dataframe tbody tr th {\n",
       "        vertical-align: top;\n",
       "    }\n",
       "\n",
       "    .dataframe thead th {\n",
       "        text-align: right;\n",
       "    }\n",
       "</style>\n",
       "<table border=\"1\" class=\"dataframe\">\n",
       "  <thead>\n",
       "    <tr style=\"text-align: right;\">\n",
       "      <th></th>\n",
       "      <th>Operación</th>\n",
       "      <th>Tipo de propiedad</th>\n",
       "      <th>Localidad</th>\n",
       "      <th>Localidad con nombres</th>\n",
       "      <th>País</th>\n",
       "      <th>Provincia</th>\n",
       "      <th>ID geonombre</th>\n",
       "      <th>Latitud-longitud</th>\n",
       "      <th>Latitud</th>\n",
       "      <th>Longitud</th>\n",
       "      <th>...</th>\n",
       "      <th>Superficie cubierta en m2</th>\n",
       "      <th>Precio U$S por m2</th>\n",
       "      <th>Precio por m2</th>\n",
       "      <th>Piso</th>\n",
       "      <th>Habitaciones</th>\n",
       "      <th>Expensas</th>\n",
       "      <th>URL Propierati</th>\n",
       "      <th>Descripción</th>\n",
       "      <th>Título</th>\n",
       "      <th>Thumbnail imagen</th>\n",
       "    </tr>\n",
       "  </thead>\n",
       "  <tbody>\n",
       "    <tr>\n",
       "      <th>0</th>\n",
       "      <td>sell</td>\n",
       "      <td>PH</td>\n",
       "      <td>Mataderos</td>\n",
       "      <td>|Argentina|Capital Federal|Mataderos|</td>\n",
       "      <td>Argentina</td>\n",
       "      <td>Capital Federal</td>\n",
       "      <td>3430787.0</td>\n",
       "      <td>-34.6618237,-58.5088387</td>\n",
       "      <td>-34.661824</td>\n",
       "      <td>-58.508839</td>\n",
       "      <td>...</td>\n",
       "      <td>40.0</td>\n",
       "      <td>1127.272727</td>\n",
       "      <td>1550.000000</td>\n",
       "      <td>NaN</td>\n",
       "      <td>NaN</td>\n",
       "      <td>NaN</td>\n",
       "      <td>http://www.properati.com.ar/15bo8_venta_ph_mat...</td>\n",
       "      <td>2 AMBIENTES TIPO CASA PLANTA BAJA POR PASILLO,...</td>\n",
       "      <td>2 AMB TIPO CASA SIN EXPENSAS EN PB</td>\n",
       "      <td>https://thumbs4.properati.com/8/BluUYiHJLhgIIK...</td>\n",
       "    </tr>\n",
       "    <tr>\n",
       "      <th>1</th>\n",
       "      <td>sell</td>\n",
       "      <td>apartment</td>\n",
       "      <td>La Plata</td>\n",
       "      <td>|Argentina|Bs.As. G.B.A. Zona Sur|La Plata|</td>\n",
       "      <td>Argentina</td>\n",
       "      <td>Bs.As. G.B.A. Zona Sur</td>\n",
       "      <td>3432039.0</td>\n",
       "      <td>-34.9038831,-57.9643295</td>\n",
       "      <td>-34.903883</td>\n",
       "      <td>-57.964330</td>\n",
       "      <td>...</td>\n",
       "      <td>NaN</td>\n",
       "      <td>NaN</td>\n",
       "      <td>NaN</td>\n",
       "      <td>NaN</td>\n",
       "      <td>NaN</td>\n",
       "      <td>NaN</td>\n",
       "      <td>http://www.properati.com.ar/15bob_venta_depart...</td>\n",
       "      <td>Venta de departamento en décimo piso al frente...</td>\n",
       "      <td>VENTA Depto 2 dorm. a estrenar 7 e/ 36 y 37   ...</td>\n",
       "      <td>https://thumbs4.properati.com/7/ikpVBu2ztHA7jv...</td>\n",
       "    </tr>\n",
       "    <tr>\n",
       "      <th>2</th>\n",
       "      <td>sell</td>\n",
       "      <td>apartment</td>\n",
       "      <td>Mataderos</td>\n",
       "      <td>|Argentina|Capital Federal|Mataderos|</td>\n",
       "      <td>Argentina</td>\n",
       "      <td>Capital Federal</td>\n",
       "      <td>3430787.0</td>\n",
       "      <td>-34.6522615,-58.5229825</td>\n",
       "      <td>-34.652262</td>\n",
       "      <td>-58.522982</td>\n",
       "      <td>...</td>\n",
       "      <td>55.0</td>\n",
       "      <td>1309.090909</td>\n",
       "      <td>1309.090909</td>\n",
       "      <td>NaN</td>\n",
       "      <td>NaN</td>\n",
       "      <td>NaN</td>\n",
       "      <td>http://www.properati.com.ar/15bod_venta_depart...</td>\n",
       "      <td>2 AMBIENTES 3ER PISO LATERAL LIVING COMEDOR AM...</td>\n",
       "      <td>2 AMB 3ER PISO CON ASCENSOR APTO CREDITO</td>\n",
       "      <td>https://thumbs4.properati.com/5/SXKr34F_IwG3W_...</td>\n",
       "    </tr>\n",
       "    <tr>\n",
       "      <th>3</th>\n",
       "      <td>sell</td>\n",
       "      <td>PH</td>\n",
       "      <td>Liniers</td>\n",
       "      <td>|Argentina|Capital Federal|Liniers|</td>\n",
       "      <td>Argentina</td>\n",
       "      <td>Capital Federal</td>\n",
       "      <td>3431333.0</td>\n",
       "      <td>-34.6477969,-58.5164244</td>\n",
       "      <td>-34.647797</td>\n",
       "      <td>-58.516424</td>\n",
       "      <td>...</td>\n",
       "      <td>NaN</td>\n",
       "      <td>NaN</td>\n",
       "      <td>NaN</td>\n",
       "      <td>NaN</td>\n",
       "      <td>NaN</td>\n",
       "      <td>NaN</td>\n",
       "      <td>http://www.properati.com.ar/15boh_venta_ph_lin...</td>\n",
       "      <td>PH 3 ambientes con patio. Hay 3 deptos en lote...</td>\n",
       "      <td>PH 3 amb. cfte. reciclado</td>\n",
       "      <td>https://thumbs4.properati.com/3/DgIfX-85Mog5SP...</td>\n",
       "    </tr>\n",
       "    <tr>\n",
       "      <th>4</th>\n",
       "      <td>sell</td>\n",
       "      <td>apartment</td>\n",
       "      <td>Centro</td>\n",
       "      <td>|Argentina|Buenos Aires Costa Atlántica|Mar de...</td>\n",
       "      <td>Argentina</td>\n",
       "      <td>Buenos Aires Costa Atlántica</td>\n",
       "      <td>3435548.0</td>\n",
       "      <td>-38.0026256,-57.5494468</td>\n",
       "      <td>-38.002626</td>\n",
       "      <td>-57.549447</td>\n",
       "      <td>...</td>\n",
       "      <td>35.0</td>\n",
       "      <td>1828.571429</td>\n",
       "      <td>1828.571429</td>\n",
       "      <td>NaN</td>\n",
       "      <td>NaN</td>\n",
       "      <td>NaN</td>\n",
       "      <td>http://www.properati.com.ar/15bok_venta_depart...</td>\n",
       "      <td>DEPARTAMENTO CON FANTÁSTICA ILUMINACIÓN NATURA...</td>\n",
       "      <td>DEPTO 2 AMB AL CONTRAFRENTE ZONA CENTRO/PLAZA ...</td>\n",
       "      <td>https://thumbs4.properati.com/5/xrRqlNcSI_vs-f...</td>\n",
       "    </tr>\n",
       "    <tr>\n",
       "      <th>5</th>\n",
       "      <td>sell</td>\n",
       "      <td>house</td>\n",
       "      <td>Gualeguaychú</td>\n",
       "      <td>|Argentina|Entre Ríos|Gualeguaychú|</td>\n",
       "      <td>Argentina</td>\n",
       "      <td>Entre Ríos</td>\n",
       "      <td>3433657.0</td>\n",
       "      <td>-33.0140714,-58.519828</td>\n",
       "      <td>-33.014071</td>\n",
       "      <td>-58.519828</td>\n",
       "      <td>...</td>\n",
       "      <td>NaN</td>\n",
       "      <td>NaN</td>\n",
       "      <td>NaN</td>\n",
       "      <td>NaN</td>\n",
       "      <td>NaN</td>\n",
       "      <td>NaN</td>\n",
       "      <td>http://www.properati.com.ar/15bop_venta_depart...</td>\n",
       "      <td>Casa en el perímetro del barrio 338, ubicada e...</td>\n",
       "      <td>Casa Barrio 338. Sobre calle 3 de caballería, ...</td>\n",
       "      <td>https://thumbs4.properati.com/6/q-w68gvaUEQVXI...</td>\n",
       "    </tr>\n",
       "    <tr>\n",
       "      <th>6</th>\n",
       "      <td>sell</td>\n",
       "      <td>PH</td>\n",
       "      <td>Munro</td>\n",
       "      <td>|Argentina|Bs.As. G.B.A. Zona Norte|Vicente Ló...</td>\n",
       "      <td>Argentina</td>\n",
       "      <td>Bs.As. G.B.A. Zona Norte</td>\n",
       "      <td>3430511.0</td>\n",
       "      <td>-34.5329567,-58.5217825</td>\n",
       "      <td>-34.532957</td>\n",
       "      <td>-58.521782</td>\n",
       "      <td>...</td>\n",
       "      <td>78.0</td>\n",
       "      <td>1226.415094</td>\n",
       "      <td>1666.666667</td>\n",
       "      <td>NaN</td>\n",
       "      <td>NaN</td>\n",
       "      <td>NaN</td>\n",
       "      <td>http://www.properati.com.ar/15bor_venta_ph_mun...</td>\n",
       "      <td>MUY BUEN PH AL FRENTE CON ENTRADA INDEPENDIENT...</td>\n",
       "      <td>MUY BUEN PH AL FRENTE DOS DORMITORIOS , PATIO,...</td>\n",
       "      <td>https://thumbs4.properati.com/5/6GOXsHCyDu1aGx...</td>\n",
       "    </tr>\n",
       "    <tr>\n",
       "      <th>7</th>\n",
       "      <td>sell</td>\n",
       "      <td>apartment</td>\n",
       "      <td>Belgrano</td>\n",
       "      <td>|Argentina|Capital Federal|Belgrano|</td>\n",
       "      <td>Argentina</td>\n",
       "      <td>Capital Federal</td>\n",
       "      <td>3436077.0</td>\n",
       "      <td>-34.5598729,-58.443362</td>\n",
       "      <td>-34.559873</td>\n",
       "      <td>-58.443362</td>\n",
       "      <td>...</td>\n",
       "      <td>40.0</td>\n",
       "      <td>3066.666667</td>\n",
       "      <td>3450.000000</td>\n",
       "      <td>NaN</td>\n",
       "      <td>NaN</td>\n",
       "      <td>NaN</td>\n",
       "      <td>http://www.properati.com.ar/15bot_venta_depart...</td>\n",
       "      <td>EXCELENTE MONOAMBIENTE A ESTRENAR AMPLIO SUPER...</td>\n",
       "      <td>JOSE HERNANDEZ 1400 MONOAMBIENTE  ESTRENAR CAT...</td>\n",
       "      <td>https://thumbs4.properati.com/1/IHxARynlr8sPEW...</td>\n",
       "    </tr>\n",
       "    <tr>\n",
       "      <th>8</th>\n",
       "      <td>sell</td>\n",
       "      <td>apartment</td>\n",
       "      <td>Belgrano</td>\n",
       "      <td>|Argentina|Capital Federal|Belgrano|</td>\n",
       "      <td>Argentina</td>\n",
       "      <td>Capital Federal</td>\n",
       "      <td>3436077.0</td>\n",
       "      <td>-34.5598729,-58.443362</td>\n",
       "      <td>-34.559873</td>\n",
       "      <td>-58.443362</td>\n",
       "      <td>...</td>\n",
       "      <td>60.0</td>\n",
       "      <td>3000.000000</td>\n",
       "      <td>3250.000000</td>\n",
       "      <td>NaN</td>\n",
       "      <td>NaN</td>\n",
       "      <td>NaN</td>\n",
       "      <td>http://www.properati.com.ar/15bou_venta_depart...</td>\n",
       "      <td>EXCELENTE DOS AMBIENTES  ESTRENAR AMPLIO SUPER...</td>\n",
       "      <td>JOSE HERNANDEZ   1400 DOS AMBIENTES ESTRENAR ,...</td>\n",
       "      <td>https://thumbs4.properati.com/2/J3zOjgaFHrkvnv...</td>\n",
       "    </tr>\n",
       "    <tr>\n",
       "      <th>9</th>\n",
       "      <td>sell</td>\n",
       "      <td>house</td>\n",
       "      <td>Rosario</td>\n",
       "      <td>|Argentina|Santa Fe|Rosario|</td>\n",
       "      <td>Argentina</td>\n",
       "      <td>Santa Fe</td>\n",
       "      <td>3838574.0</td>\n",
       "      <td>-32.942031,-60.7259192</td>\n",
       "      <td>-32.942031</td>\n",
       "      <td>-60.725919</td>\n",
       "      <td>...</td>\n",
       "      <td>NaN</td>\n",
       "      <td>NaN</td>\n",
       "      <td>NaN</td>\n",
       "      <td>NaN</td>\n",
       "      <td>NaN</td>\n",
       "      <td>NaN</td>\n",
       "      <td>http://www.properati.com.ar/15box_venta_casa_r...</td>\n",
       "      <td>MEDNOZA AL 7600A UNA CUADRA DE CALLE MENDOZAWH...</td>\n",
       "      <td>WHITE 7637 - 2 DORMITORIOS CON PATIO</td>\n",
       "      <td>https://thumbs4.properati.com/8/RCf1YEWdF4rv98...</td>\n",
       "    </tr>\n",
       "  </tbody>\n",
       "</table>\n",
       "<p>10 rows × 25 columns</p>\n",
       "</div>"
      ],
      "text/plain": [
       "  Operación Tipo de propiedad     Localidad  \\\n",
       "0      sell                PH     Mataderos   \n",
       "1      sell         apartment      La Plata   \n",
       "2      sell         apartment     Mataderos   \n",
       "3      sell                PH       Liniers   \n",
       "4      sell         apartment        Centro   \n",
       "5      sell             house  Gualeguaychú   \n",
       "6      sell                PH         Munro   \n",
       "7      sell         apartment      Belgrano   \n",
       "8      sell         apartment      Belgrano   \n",
       "9      sell             house       Rosario   \n",
       "\n",
       "                               Localidad con nombres       País  \\\n",
       "0              |Argentina|Capital Federal|Mataderos|  Argentina   \n",
       "1        |Argentina|Bs.As. G.B.A. Zona Sur|La Plata|  Argentina   \n",
       "2              |Argentina|Capital Federal|Mataderos|  Argentina   \n",
       "3                |Argentina|Capital Federal|Liniers|  Argentina   \n",
       "4  |Argentina|Buenos Aires Costa Atlántica|Mar de...  Argentina   \n",
       "5                |Argentina|Entre Ríos|Gualeguaychú|  Argentina   \n",
       "6  |Argentina|Bs.As. G.B.A. Zona Norte|Vicente Ló...  Argentina   \n",
       "7               |Argentina|Capital Federal|Belgrano|  Argentina   \n",
       "8               |Argentina|Capital Federal|Belgrano|  Argentina   \n",
       "9                       |Argentina|Santa Fe|Rosario|  Argentina   \n",
       "\n",
       "                      Provincia  ID geonombre         Latitud-longitud  \\\n",
       "0               Capital Federal     3430787.0  -34.6618237,-58.5088387   \n",
       "1        Bs.As. G.B.A. Zona Sur     3432039.0  -34.9038831,-57.9643295   \n",
       "2               Capital Federal     3430787.0  -34.6522615,-58.5229825   \n",
       "3               Capital Federal     3431333.0  -34.6477969,-58.5164244   \n",
       "4  Buenos Aires Costa Atlántica     3435548.0  -38.0026256,-57.5494468   \n",
       "5                    Entre Ríos     3433657.0   -33.0140714,-58.519828   \n",
       "6      Bs.As. G.B.A. Zona Norte     3430511.0  -34.5329567,-58.5217825   \n",
       "7               Capital Federal     3436077.0   -34.5598729,-58.443362   \n",
       "8               Capital Federal     3436077.0   -34.5598729,-58.443362   \n",
       "9                      Santa Fe     3838574.0   -32.942031,-60.7259192   \n",
       "\n",
       "     Latitud   Longitud  ...  Superficie cubierta en m2 Precio U$S por m2  \\\n",
       "0 -34.661824 -58.508839  ...                       40.0       1127.272727   \n",
       "1 -34.903883 -57.964330  ...                        NaN               NaN   \n",
       "2 -34.652262 -58.522982  ...                       55.0       1309.090909   \n",
       "3 -34.647797 -58.516424  ...                        NaN               NaN   \n",
       "4 -38.002626 -57.549447  ...                       35.0       1828.571429   \n",
       "5 -33.014071 -58.519828  ...                        NaN               NaN   \n",
       "6 -34.532957 -58.521782  ...                       78.0       1226.415094   \n",
       "7 -34.559873 -58.443362  ...                       40.0       3066.666667   \n",
       "8 -34.559873 -58.443362  ...                       60.0       3000.000000   \n",
       "9 -32.942031 -60.725919  ...                        NaN               NaN   \n",
       "\n",
       "   Precio por m2  Piso  Habitaciones  Expensas  \\\n",
       "0    1550.000000   NaN           NaN       NaN   \n",
       "1            NaN   NaN           NaN       NaN   \n",
       "2    1309.090909   NaN           NaN       NaN   \n",
       "3            NaN   NaN           NaN       NaN   \n",
       "4    1828.571429   NaN           NaN       NaN   \n",
       "5            NaN   NaN           NaN       NaN   \n",
       "6    1666.666667   NaN           NaN       NaN   \n",
       "7    3450.000000   NaN           NaN       NaN   \n",
       "8    3250.000000   NaN           NaN       NaN   \n",
       "9            NaN   NaN           NaN       NaN   \n",
       "\n",
       "                                      URL Propierati  \\\n",
       "0  http://www.properati.com.ar/15bo8_venta_ph_mat...   \n",
       "1  http://www.properati.com.ar/15bob_venta_depart...   \n",
       "2  http://www.properati.com.ar/15bod_venta_depart...   \n",
       "3  http://www.properati.com.ar/15boh_venta_ph_lin...   \n",
       "4  http://www.properati.com.ar/15bok_venta_depart...   \n",
       "5  http://www.properati.com.ar/15bop_venta_depart...   \n",
       "6  http://www.properati.com.ar/15bor_venta_ph_mun...   \n",
       "7  http://www.properati.com.ar/15bot_venta_depart...   \n",
       "8  http://www.properati.com.ar/15bou_venta_depart...   \n",
       "9  http://www.properati.com.ar/15box_venta_casa_r...   \n",
       "\n",
       "                                         Descripción  \\\n",
       "0  2 AMBIENTES TIPO CASA PLANTA BAJA POR PASILLO,...   \n",
       "1  Venta de departamento en décimo piso al frente...   \n",
       "2  2 AMBIENTES 3ER PISO LATERAL LIVING COMEDOR AM...   \n",
       "3  PH 3 ambientes con patio. Hay 3 deptos en lote...   \n",
       "4  DEPARTAMENTO CON FANTÁSTICA ILUMINACIÓN NATURA...   \n",
       "5  Casa en el perímetro del barrio 338, ubicada e...   \n",
       "6  MUY BUEN PH AL FRENTE CON ENTRADA INDEPENDIENT...   \n",
       "7  EXCELENTE MONOAMBIENTE A ESTRENAR AMPLIO SUPER...   \n",
       "8  EXCELENTE DOS AMBIENTES  ESTRENAR AMPLIO SUPER...   \n",
       "9  MEDNOZA AL 7600A UNA CUADRA DE CALLE MENDOZAWH...   \n",
       "\n",
       "                                              Título  \\\n",
       "0                 2 AMB TIPO CASA SIN EXPENSAS EN PB   \n",
       "1  VENTA Depto 2 dorm. a estrenar 7 e/ 36 y 37   ...   \n",
       "2           2 AMB 3ER PISO CON ASCENSOR APTO CREDITO   \n",
       "3                       PH 3 amb. cfte. reciclado      \n",
       "4  DEPTO 2 AMB AL CONTRAFRENTE ZONA CENTRO/PLAZA ...   \n",
       "5  Casa Barrio 338. Sobre calle 3 de caballería, ...   \n",
       "6  MUY BUEN PH AL FRENTE DOS DORMITORIOS , PATIO,...   \n",
       "7  JOSE HERNANDEZ 1400 MONOAMBIENTE  ESTRENAR CAT...   \n",
       "8  JOSE HERNANDEZ   1400 DOS AMBIENTES ESTRENAR ,...   \n",
       "9         WHITE 7637 - 2 DORMITORIOS CON PATIO         \n",
       "\n",
       "                                    Thumbnail imagen  \n",
       "0  https://thumbs4.properati.com/8/BluUYiHJLhgIIK...  \n",
       "1  https://thumbs4.properati.com/7/ikpVBu2ztHA7jv...  \n",
       "2  https://thumbs4.properati.com/5/SXKr34F_IwG3W_...  \n",
       "3  https://thumbs4.properati.com/3/DgIfX-85Mog5SP...  \n",
       "4  https://thumbs4.properati.com/5/xrRqlNcSI_vs-f...  \n",
       "5  https://thumbs4.properati.com/6/q-w68gvaUEQVXI...  \n",
       "6  https://thumbs4.properati.com/5/6GOXsHCyDu1aGx...  \n",
       "7  https://thumbs4.properati.com/1/IHxARynlr8sPEW...  \n",
       "8  https://thumbs4.properati.com/2/J3zOjgaFHrkvnv...  \n",
       "9  https://thumbs4.properati.com/8/RCf1YEWdF4rv98...  \n",
       "\n",
       "[10 rows x 25 columns]"
      ]
     },
     "execution_count": 7,
     "metadata": {},
     "output_type": "execute_result"
    }
   ],
   "source": [
    "# Visualización de las primeras 10 filas del DataFrame para obtener un panorama más claro de nuestro objeto de trabajo.\n",
    "\n",
    "data.head(10)"
   ]
  },
  {
   "cell_type": "code",
   "execution_count": 8,
   "metadata": {
    "scrolled": true
   },
   "outputs": [
    {
     "data": {
      "text/plain": [
       "sell    121220\n",
       "Name: Operación, dtype: int64"
      ]
     },
     "execution_count": 8,
     "metadata": {},
     "output_type": "execute_result"
    }
   ],
   "source": [
    "data['Operación'].value_counts()"
   ]
  },
  {
   "cell_type": "code",
   "execution_count": 9,
   "metadata": {},
   "outputs": [],
   "source": [
    "# Dropeo de columnas que no vamos a utilizar.\n",
    "\n",
    "data.drop(['Operación', 'Latitud-longitud', 'Latitud', 'Longitud', 'ID geonombre', 'URL Propierati', 'Thumbnail imagen'], axis=1, inplace=True)"
   ]
  },
  {
   "cell_type": "code",
   "execution_count": 10,
   "metadata": {},
   "outputs": [
    {
     "name": "stdout",
     "output_type": "stream",
     "text": [
      "Cantidad de registros duplicados\n",
      "5237\n",
      "Cantidad de filas de data antes de eliminar duplicados\n",
      "121220\n",
      "Cantidad de filas de data después de eliminar duplicados\n"
     ]
    },
    {
     "data": {
      "text/plain": [
       "115983"
      ]
     },
     "execution_count": 10,
     "metadata": {},
     "output_type": "execute_result"
    }
   ],
   "source": [
    "# Dropeo de filas duplicadas.\n",
    "\n",
    "duplicated_mask = data.duplicated(keep = \"first\")\n",
    "\n",
    "print (\"Cantidad de registros duplicados\")\n",
    "print(sum(duplicated_mask))\n",
    "\n",
    "print (\"Cantidad de filas de data antes de eliminar duplicados\")\n",
    "print(data.shape[0])\n",
    "\n",
    "data = data.drop_duplicates(keep = \"first\")\n",
    "\n",
    "print (\"Cantidad de filas de data después de eliminar duplicados\")\n",
    "data.shape[0]"
   ]
  },
  {
   "cell_type": "markdown",
   "metadata": {},
   "source": [
    "Como observamos que los tipos de propiedad están en inglés y, nuevamente, para mejorar la legibilidad del código y los datos, los pasamos a español. Para eso hacemos obtenemos los valores únicos de la columna con unique() y creamos un diccionario para cambiarlos con la función map()."
   ]
  },
  {
   "cell_type": "code",
   "execution_count": 11,
   "metadata": {},
   "outputs": [
    {
     "data": {
      "text/plain": [
       "array(['PH', 'apartment', 'house', 'store'], dtype=object)"
      ]
     },
     "execution_count": 11,
     "metadata": {},
     "output_type": "execute_result"
    }
   ],
   "source": [
    "# Valores de la columna 'Tipo de propiedad'.\n",
    "\n",
    "data['Tipo de propiedad'].unique()"
   ]
  },
  {
   "cell_type": "code",
   "execution_count": 12,
   "metadata": {},
   "outputs": [],
   "source": [
    "# Reemplazo de valores de la columna 'Tipo de propiedad' por sus equivalentes en español.\n",
    "\n",
    "tipo_propiedad_dict = {'PH':'PH', 'apartment':'Departamento', 'house':'Casa', 'store':'Local'}\n",
    "\n",
    "data['Tipo de propiedad'] = data['Tipo de propiedad'].map(tipo_propiedad_dict)"
   ]
  },
  {
   "cell_type": "markdown",
   "metadata": {},
   "source": [
    "Al haber descartado las columnas que no nos interesa trabajar y tener los valores de texto en español para facilitar el trabajo posterior, nos interesa saber qué cantidad y porcentaje de valores faltantes tenemos por columna.\n",
    "\n",
    "Como las columnas de Precio, Precio aproximado ($) y Precio aproximado (U$S) tienen la misma cantidad de valores faltantes, realizamos la verificación de si son las mismas filas. Creamos las máscaras booleanas que chequean esta relación y vemos que efectivamente este es el caso."
   ]
  },
  {
   "cell_type": "code",
   "execution_count": 13,
   "metadata": {
    "scrolled": true
   },
   "outputs": [
    {
     "name": "stdout",
     "output_type": "stream",
     "text": [
      "Tipo de propiedad 0\n",
      "Localidad 23\n",
      "Localidad con nombres 0\n",
      "País 0\n",
      "Provincia 0\n",
      "Precio 17496\n",
      "Moneda 17497\n",
      "Precio aproximado ($) 17496\n",
      "Precio aproximado (U$S) 17496\n",
      "Superficie total en m2 38361\n",
      "Superficie cubierta en m2 18839\n",
      "Precio U$S por m2 49218\n",
      "Precio por m2 30374\n",
      "Piso 108326\n",
      "Habitaciones 69898\n",
      "Expensas 101902\n",
      "Descripción 2\n",
      "Título 0\n"
     ]
    }
   ],
   "source": [
    "# Cantidad de datos faltantes por columna.\n",
    "\n",
    "for col in data.columns:\n",
    "    print(col + \" \" + str(data[col].isna().sum()))"
   ]
  },
  {
   "cell_type": "code",
   "execution_count": 14,
   "metadata": {},
   "outputs": [
    {
     "name": "stdout",
     "output_type": "stream",
     "text": [
      "Tipo de propiedad 0.0%\n",
      "Localidad 0.02%\n",
      "Localidad con nombres 0.0%\n",
      "País 0.0%\n",
      "Provincia 0.0%\n",
      "Precio 15.08%\n",
      "Moneda 15.09%\n",
      "Precio aproximado ($) 15.08%\n",
      "Precio aproximado (U$S) 15.08%\n",
      "Superficie total en m2 33.07%\n",
      "Superficie cubierta en m2 16.24%\n",
      "Precio U$S por m2 42.44%\n",
      "Precio por m2 26.19%\n",
      "Piso 93.4%\n",
      "Habitaciones 60.27%\n",
      "Expensas 87.86%\n",
      "Descripción 0.0%\n",
      "Título 0.0%\n"
     ]
    }
   ],
   "source": [
    "# Porcentaje de datos faltantes por columna.\n",
    "\n",
    "for col in data.columns:\n",
    "    print(col + \" \" + str(round(data[col].isna().sum() / len(data[col]) * 100, 2)) + \"%\")"
   ]
  },
  {
   "cell_type": "code",
   "execution_count": 15,
   "metadata": {},
   "outputs": [
    {
     "name": "stdout",
     "output_type": "stream",
     "text": [
      "True    115983\n",
      "dtype: int64\n",
      "True    115983\n",
      "dtype: int64\n",
      "True    115983\n",
      "dtype: int64\n"
     ]
    }
   ],
   "source": [
    "# Verificación de que los NaN coinciden en las columnas de precio, precio en $ y precio en U$S.\n",
    "\n",
    "mascara_precio_pesos = data[\"Precio aproximado ($)\"].isnull()\n",
    "mascara_precio_dolares = data[\"Precio aproximado (U$S)\"].isnull()\n",
    "mascara_precio = data['Precio'].isnull()\n",
    "\n",
    "print((mascara_precio_pesos == mascara_precio_dolares).value_counts())\n",
    "print((mascara_precio_pesos == mascara_precio).value_counts())\n",
    "print((mascara_precio == mascara_precio_dolares).value_counts())"
   ]
  },
  {
   "cell_type": "markdown",
   "metadata": {},
   "source": [
    "## Trabajo sobre localidades, ciudades y provincias\n",
    "\n",
    "Como el dataset tiene varias columnas destinadas a informar la ubicación de las propiedades, nos interesó ver si coinciden"
   ]
  },
  {
   "cell_type": "code",
   "execution_count": 16,
   "metadata": {
    "scrolled": true
   },
   "outputs": [
    {
     "name": "stdout",
     "output_type": "stream",
     "text": [
      "Cantidad de valores distintos en la columna pais: Argentina    115983\n",
      "Name: País, dtype: int64\n",
      "Longitud del dataset: 115983\n"
     ]
    }
   ],
   "source": [
    "#Vemos la cantidad de valores que tenemos por país para corroborar que sean todos en Argentina\n",
    "\n",
    "print (\"Cantidad de valores distintos en la columna pais: \" + str(data[\"País\"].value_counts()))\n",
    "print (\"Longitud del dataset: \" + str(len(data)))"
   ]
  },
  {
   "cell_type": "code",
   "execution_count": 17,
   "metadata": {
    "scrolled": true
   },
   "outputs": [],
   "source": [
    "#Dropeamos la columna país por ser redundante\n",
    "\n",
    "data.drop('País', axis=1, inplace=True)"
   ]
  },
  {
   "cell_type": "code",
   "execution_count": 18,
   "metadata": {},
   "outputs": [
    {
     "name": "stdout",
     "output_type": "stream",
     "text": [
      "La cantidad de columnas que genero la separacion es: \n"
     ]
    },
    {
     "data": {
      "text/plain": [
       "7"
      ]
     },
     "execution_count": 18,
     "metadata": {},
     "output_type": "execute_result"
    }
   ],
   "source": [
    "#ahora voy a separar el campo  localidad con nombres, para comparar con las demas columnas por el separador de |\n",
    "\n",
    "Localidad_con_nombres = data.loc[:,\"Localidad con nombres\"].str.split(pat='|', expand=True)\n",
    "print (\"La cantidad de columnas que genero la separacion es: \")\n",
    "Localidad_con_nombres.shape[1]\n",
    "\n",
    "#por lo que me da la pauta de que habia datos con mas de dos separadores como se esperaba, luego tendremos que revisar eso"
   ]
  },
  {
   "cell_type": "code",
   "execution_count": 19,
   "metadata": {},
   "outputs": [
    {
     "name": "stdout",
     "output_type": "stream",
     "text": [
      "Cantidad de valores distintos en la columna pais que se extrae el campo localidades con nombre:\n",
      "Argentina    115983\n",
      "Name: 1, dtype: int64\n",
      "Nos aseguramos que tanto el parceo del campo localidades con nombre, tenga siempre argentina y el campo Pais que venia en el data set tambien\n"
     ]
    }
   ],
   "source": [
    "#Me quedo con la primer columna que deberia ser el pais\n",
    "print (\"Cantidad de valores distintos en la columna pais que se extrae el campo localidades con nombre:\")\n",
    "print (Localidad_con_nombres.loc[:,1].value_counts())\n",
    "\n",
    "print (\"Nos aseguramos que tanto el parceo del campo localidades con nombre, tenga siempre argentina y el campo Pais que venia en el data set tambien\")"
   ]
  },
  {
   "cell_type": "code",
   "execution_count": 20,
   "metadata": {},
   "outputs": [
    {
     "name": "stdout",
     "output_type": "stream",
     "text": [
      "Las columnas Provincia del data set y el parceo de la columna -Localidad con nombres- arrojan el mismo resultado??\n",
      "True\n"
     ]
    }
   ],
   "source": [
    "#Analizamos la segunda columna, que es la de provincia\n",
    "Provincia_parceada = Localidad_con_nombres.loc[:, 2]\n",
    "#voy a comparar si el contenido de ese campo tambien es el mismo que en la columna original de provincia\n",
    "Provincia_original = data['Provincia']\n",
    "\n",
    "provincias_iguales = Provincia_original.equals(Provincia_parceada)\n",
    "\n",
    "print (\"Las columnas Provincia del data set y el parceo de la columna -Localidad con nombres- arrojan el mismo resultado??\")\n",
    "print (provincias_iguales)"
   ]
  },
  {
   "cell_type": "code",
   "execution_count": 21,
   "metadata": {},
   "outputs": [
    {
     "data": {
      "text/plain": [
       "Capital Federal                 30722\n",
       "Bs.As. G.B.A. Zona Norte        24690\n",
       "Bs.As. G.B.A. Zona Sur          13543\n",
       "Córdoba                         11581\n",
       "Buenos Aires Costa Atlántica     9898\n",
       "Bs.As. G.B.A. Zona Oeste         9037\n",
       "Santa Fe                         9029\n",
       "Buenos Aires Interior            2250\n",
       "Río Negro                         789\n",
       "Mendoza                           656\n",
       "Tucumán                           635\n",
       "Neuquén                           587\n",
       "Corrientes                        575\n",
       "Misiones                          453\n",
       "Entre Ríos                        364\n",
       "Salta                             276\n",
       "Chubut                            259\n",
       "San Luis                          245\n",
       "La Pampa                          153\n",
       "Chaco                              57\n",
       "San Juan                           40\n",
       "Formosa                            32\n",
       "Tierra Del Fuego                   31\n",
       "Catamarca                          27\n",
       "Jujuy                              26\n",
       "Santa Cruz                         20\n",
       "La Rioja                            4\n",
       "Santiago Del Estero                 4\n",
       "Name: Provincia, dtype: int64"
      ]
     },
     "execution_count": 21,
     "metadata": {},
     "output_type": "execute_result"
    }
   ],
   "source": [
    "#Voy a analizar el contenido del campo\n",
    "Provincia_original.value_counts()"
   ]
  },
  {
   "cell_type": "code",
   "execution_count": 22,
   "metadata": {},
   "outputs": [],
   "source": [
    "#Normalizo todos los nombres de las provincias que corresponden a buenos aires\n",
    "#data['Provincia'] = data['Provincia'].apply(lambda x: x if x is np.NaN else re.sub('Bs.As.*\\w+|Buenos Aires.*\\w+', \"Buenos Aires\", x))\n",
    "\n",
    "#data['Provincia'].value_counts()"
   ]
  },
  {
   "cell_type": "code",
   "execution_count": 23,
   "metadata": {},
   "outputs": [
    {
     "name": "stdout",
     "output_type": "stream",
     "text": [
      "Aun quedan 33911 valores nulos en el campo Localidad limpia\n"
     ]
    }
   ],
   "source": [
    "#lo primero que ponemos en ese campo nuevo son los valores que coinciden tanto para la localidad parceada como para la original\n",
    "def localidad_limpia(numero_columna):\n",
    "    Localidad_parceada = Localidad_con_nombres.loc[:,numero_columna]\n",
    "    Localidad_Original = data.Localidad\n",
    "\n",
    "    mask_localidades_iguales = Localidad_parceada == Localidad_Original\n",
    "    data.loc[mask_localidades_iguales, \"Localidad_limpia\"] = data.loc[mask_localidades_iguales, \"Localidad\"]\n",
    "\n",
    "localidad_limpia(3)\n",
    "\n",
    "def nulos_localidad():\n",
    "    return print(\"Aun quedan \" + str(data[\"Localidad_limpia\"].isna().sum() ) + \" valores nulos en el campo Localidad limpia\")\n",
    "    \n",
    "nulos_localidad()"
   ]
  },
  {
   "cell_type": "code",
   "execution_count": 24,
   "metadata": {},
   "outputs": [
    {
     "name": "stdout",
     "output_type": "stream",
     "text": [
      "Tigre    23\n",
      "Name: 3, dtype: int64\n",
      "Aun quedan 33888 valores nulos en el campo Localidad limpia\n"
     ]
    }
   ],
   "source": [
    "Localidad_parceada = Localidad_con_nombres.loc[:,3]\n",
    "\n",
    "#Como la columna localidad tenia ciertos valores nulos, voy a ver que tiene la columna parceada en esos registros\n",
    "\n",
    "mask_localidad_original_nula = data.Localidad.isna()\n",
    "print(Localidad_parceada.loc[mask_localidad_original_nula].value_counts())\n",
    "\n",
    "#veo que en todos esos registros es tigre la localidad, asi que la pegamos en la columna limpia\n",
    "data.loc[mask_localidad_original_nula, \"Localidad_limpia\"] = Localidad_parceada[mask_localidad_original_nula]\n",
    "nulos_localidad()"
   ]
  },
  {
   "cell_type": "code",
   "execution_count": 25,
   "metadata": {},
   "outputs": [
    {
     "name": "stdout",
     "output_type": "stream",
     "text": [
      "Aun quedan 4935 valores nulos en el campo Localidad limpia\n",
      "Aun quedan 4402 valores nulos en el campo Localidad limpia\n",
      "Aun quedan 4402 valores nulos en el campo Localidad limpia\n"
     ]
    }
   ],
   "source": [
    "localidad_limpia(4)\n",
    "nulos_localidad()\n",
    "localidad_limpia(5)\n",
    "nulos_localidad()\n",
    "localidad_limpia(6)\n",
    "nulos_localidad()"
   ]
  },
  {
   "cell_type": "code",
   "execution_count": 26,
   "metadata": {},
   "outputs": [
    {
     "name": "stdout",
     "output_type": "stream",
     "text": [
      "En la columna 6, 4402 son nulos\n",
      "En la columna 5, 4402 son nulos\n",
      "En la columna 4, 4402 son nulos\n",
      "En la columna 3, 0 son nulos\n"
     ]
    }
   ],
   "source": [
    "#veamos que valores tienen los campos que nos faltan en los campos parceados.\n",
    "\n",
    "mask_localidad_limpia_nulos=data.Localidad_limpia.isnull()\n",
    "mask_localidad_limpia_nulos.sum()\n",
    "localidades_parceadas_aun_nulas = Localidad_con_nombres.loc[mask_localidad_limpia_nulos,[3,4,5,6]]\n",
    "\n",
    "print(\"En la columna 6, \" +  str(localidades_parceadas_aun_nulas[6].isnull().sum()) + \" son nulos\")\n",
    "print(\"En la columna 5, \" +  str(localidades_parceadas_aun_nulas[5].isnull().sum()) + \" son nulos\")\n",
    "print(\"En la columna 4, \" +  str(localidades_parceadas_aun_nulas[4].isnull().sum()) + \" son nulos\")\n",
    "print(\"En la columna 3, \" +  str(localidades_parceadas_aun_nulas[3].isnull().sum()) + \" son nulos\")\n",
    "\n",
    "#pareciera que la unica columna que puede aportar algo es la numero 3, pero en realidad todo el contenido de la misma parece ser nulo\n",
    "\n",
    "#ATENCION\n",
    "#ATENCION\n",
    "#deberia ver bien como puedo probar q esos valores son nulos\n",
    "#ATENCION\n",
    "#ATENCION"
   ]
  },
  {
   "cell_type": "code",
   "execution_count": 27,
   "metadata": {
    "scrolled": true
   },
   "outputs": [
    {
     "data": {
      "text/plain": [
       "Córdoba                         2496\n",
       "Capital Federal                 1083\n",
       "Bs.As. G.B.A. Zona Norte         221\n",
       "Mendoza                          129\n",
       "Buenos Aires Interior            106\n",
       "Tucumán                           75\n",
       "Bs.As. G.B.A. Zona Oeste          64\n",
       "Misiones                          43\n",
       "Santa Fe                          32\n",
       "Buenos Aires Costa Atlántica      27\n",
       "Bs.As. G.B.A. Zona Sur            24\n",
       "Salta                             21\n",
       "San Luis                          19\n",
       "Chubut                            17\n",
       "Neuquén                           10\n",
       "Río Negro                          8\n",
       "San Juan                           7\n",
       "Tierra Del Fuego                   6\n",
       "La Pampa                           3\n",
       "Santiago Del Estero                3\n",
       "Catamarca                          3\n",
       "Corrientes                         2\n",
       "Jujuy                              1\n",
       "Chaco                              1\n",
       "La Rioja                           1\n",
       "Name: Localidad, dtype: int64"
      ]
     },
     "execution_count": 27,
     "metadata": {},
     "output_type": "execute_result"
    }
   ],
   "source": [
    "# vamos a ver los valores que tenia la columna de Localidad original\n",
    "#data.loc[mask_localidad_limpia_nulos,\"Localidad\" ].value_counts()\n",
    "\n",
    "data.loc[mask_localidad_limpia_nulos,\"Localidad\" ].value_counts()\n"
   ]
  },
  {
   "cell_type": "code",
   "execution_count": 28,
   "metadata": {},
   "outputs": [
    {
     "data": {
      "text/plain": [
       "4402"
      ]
     },
     "execution_count": 28,
     "metadata": {},
     "output_type": "execute_result"
    }
   ],
   "source": [
    "#me voy a fijar que no sea una copia de lo q tienen en la columna provincia\n",
    "mask_localidad_igual_provincia = data.loc[mask_localidad_limpia_nulos,\"Provincia\" ] == (data.loc[mask_localidad_limpia_nulos,\"Localidad\"])\n",
    "mask_localidad_igual_provincia.sum()"
   ]
  },
  {
   "cell_type": "code",
   "execution_count": 29,
   "metadata": {},
   "outputs": [
    {
     "name": "stdout",
     "output_type": "stream",
     "text": [
      "Aun falta la localidad de 4402 registros\n"
     ]
    }
   ],
   "source": [
    "#aun quenda estas localidades nulas\n",
    "print ('Aun falta la localidad de ' + str(data['Localidad_limpia'].isna().sum()) + ' registros')"
   ]
  },
  {
   "cell_type": "code",
   "execution_count": 30,
   "metadata": {},
   "outputs": [
    {
     "data": {
      "text/plain": [
       "Córdoba                         2496\n",
       "Capital Federal                 1083\n",
       "Bs.As. G.B.A. Zona Norte         221\n",
       "Mendoza                          129\n",
       "Buenos Aires Interior            106\n",
       "Tucumán                           75\n",
       "Bs.As. G.B.A. Zona Oeste          64\n",
       "Misiones                          43\n",
       "Santa Fe                          32\n",
       "Buenos Aires Costa Atlántica      27\n",
       "Bs.As. G.B.A. Zona Sur            24\n",
       "Salta                             21\n",
       "San Luis                          19\n",
       "Chubut                            17\n",
       "Neuquén                           10\n",
       "Río Negro                          8\n",
       "San Juan                           7\n",
       "Tierra Del Fuego                   6\n",
       "La Pampa                           3\n",
       "Santiago Del Estero                3\n",
       "Catamarca                          3\n",
       "Corrientes                         2\n",
       "Jujuy                              1\n",
       "Chaco                              1\n",
       "La Rioja                           1\n",
       "Name: Localidad, dtype: int64"
      ]
     },
     "execution_count": 30,
     "metadata": {},
     "output_type": "execute_result"
    }
   ],
   "source": [
    "#imprimo que hay en la localidad original de los valores que aun me faltan imputar haciendo foco en las localidades que luego van a ser de interes\n",
    "mask_localidad_limpia_nulos=data.Localidad_limpia.isnull()\n",
    "localidad = data.loc[mask_localidad_limpia_nulos,[\"Localidad\"]]\n",
    "localidad[\"Localidad\"].value_counts()"
   ]
  },
  {
   "cell_type": "code",
   "execution_count": 31,
   "metadata": {},
   "outputs": [
    {
     "name": "stdout",
     "output_type": "stream",
     "text": [
      "Córdoba                         2496\n",
      "Capital Federal                 1083\n",
      "Bs.As. G.B.A. Zona Norte         221\n",
      "Mendoza                          129\n",
      "Buenos Aires Interior            106\n",
      "Tucumán                           75\n",
      "Bs.As. G.B.A. Zona Oeste          64\n",
      "Misiones                          43\n",
      "Santa Fe                          32\n",
      "Buenos Aires Costa Atlántica      27\n",
      "Bs.As. G.B.A. Zona Sur            24\n",
      "Salta                             21\n",
      "San Luis                          19\n",
      "Chubut                            17\n",
      "Neuquén                           10\n",
      "Río Negro                          8\n",
      "San Juan                           7\n",
      "Tierra Del Fuego                   6\n",
      "La Pampa                           3\n",
      "Santiago Del Estero                3\n",
      "Catamarca                          3\n",
      "Corrientes                         2\n",
      "Jujuy                              1\n",
      "Chaco                              1\n",
      "La Rioja                           1\n",
      "Name: localidad_1, dtype: int64\n"
     ]
    }
   ],
   "source": [
    "#me fijo que tengo tambien en la primer columna que deberia ser localidad de los valores parceados\n",
    "localidades_a_revisar = Localidad_con_nombres.loc[mask_localidad_limpia_nulos]\n",
    "localidades_a_revisar.columns = ['pais_1','provincia_1','localidad_1','localidad_2','localidad_3','localidad_4','localidad_5']\n",
    "print(localidades_a_revisar['localidad_1'].value_counts())"
   ]
  },
  {
   "cell_type": "code",
   "execution_count": 32,
   "metadata": {},
   "outputs": [
    {
     "name": "stdout",
     "output_type": "stream",
     "text": [
      "Las columnas Provincia del data set y el parceo de la columna -Localidad con nombres- arrojan el mismo resultado en las filas que aun faltan rellenar??\n",
      "True\n",
      "Como lo que muestran no son nombres de localidades voy a ver que dice la proxima columna parceada\n"
     ]
    }
   ],
   "source": [
    "#me aseguro de fijarme que sean iguales la localidad original en los casos de interes contra la primer columna de la localidad parceada\n",
    "localidad_original_localidad_parceada_1 = localidad[\"Localidad\"].equals(localidades_a_revisar['localidad_1'])\n",
    "\n",
    "print (\"Las columnas Provincia del data set y el parceo de la columna -Localidad con nombres- arrojan el mismo resultado en las filas que aun faltan rellenar??\")\n",
    "print (provincias_iguales)\n",
    "print ('Como lo que muestran no son nombres de localidades voy a ver que dice la proxima columna parceada')"
   ]
  },
  {
   "cell_type": "code",
   "execution_count": 33,
   "metadata": {},
   "outputs": [
    {
     "name": "stdout",
     "output_type": "stream",
     "text": [
      "nulos en la columna siguiente a analizar (localidad_2) 0\n",
      "nulos en la columna siguiente a analizar (localidad_3) 4402\n",
      "nulos en la columna siguiente a analizar (localidad_4) 4402\n",
      "nulos en la columna siguiente a analizar (localidad_5) 4402\n",
      "la unica columna que no esta en nulo es la de localidad 2, pero si imprimimos el contenido, todos los campos dicen lo mismo y debe ser un caracter en blanco o algo por el estilo\n",
      "    4402\n",
      "Name: localidad_2, dtype: int64\n"
     ]
    }
   ],
   "source": [
    "\n",
    "print( 'nulos en la columna siguiente a analizar (localidad_2) ' + str(localidades_a_revisar['localidad_2'].isnull().sum()))\n",
    "print( 'nulos en la columna siguiente a analizar (localidad_3) ' + str(localidades_a_revisar['localidad_3'].isnull().sum()))\n",
    "print( 'nulos en la columna siguiente a analizar (localidad_4) ' + str(localidades_a_revisar['localidad_4'].isnull().sum()))\n",
    "print( 'nulos en la columna siguiente a analizar (localidad_5) ' + str(localidades_a_revisar['localidad_5'].isnull().sum()))\n",
    "\n",
    "print('la unica columna que no esta en nulo es la de localidad 2, pero si imprimimos el contenido, todos los campos dicen lo mismo y debe ser un caracter en blanco o algo por el estilo')\n",
    "\n",
    "print(localidades_a_revisar['localidad_2'].value_counts())"
   ]
  },
  {
   "cell_type": "code",
   "execution_count": 34,
   "metadata": {},
   "outputs": [],
   "source": [
    "#\n",
    "#          ENTONCES ESAS 4021 LOCALIDADES QUE AUN FALTAN, NO SE PUEDEN IMPUTAR, SE DEBEN DESCARTAR ESOS REGISTROS DEL DATA SET\n",
    "#"
   ]
  },
  {
   "cell_type": "code",
   "execution_count": 35,
   "metadata": {},
   "outputs": [
    {
     "name": "stdout",
     "output_type": "stream",
     "text": [
      "el data set nos queda por ahora con 111581 registros\n"
     ]
    }
   ],
   "source": [
    "mask_localidad_limpia_nulos=data.Localidad_limpia.notnull()\n",
    "\n",
    "data = data.loc[mask_localidad_limpia_nulos]\n",
    "print ('el data set nos queda por ahora con ' + str(data.shape[0]) + ' registros')\n",
    "\n",
    "#elimino un par de columnas que ahora quedan como basura\n",
    "\n",
    "data.drop(['Localidad con nombres', 'Localidad'],axis=1,  inplace=True)\n"
   ]
  },
  {
   "cell_type": "code",
   "execution_count": 36,
   "metadata": {},
   "outputs": [],
   "source": [
    "data = data.rename(columns={'Localidad_limpia':'Localidad'})"
   ]
  },
  {
   "cell_type": "code",
   "execution_count": 37,
   "metadata": {
    "scrolled": true
   },
   "outputs": [
    {
     "name": "stdout",
     "output_type": "stream",
     "text": [
      "Tipo de propiedad 0\n",
      "Provincia 0\n",
      "Precio 16717\n",
      "Moneda 16717\n",
      "Precio aproximado ($) 16717\n",
      "Precio aproximado (U$S) 16717\n",
      "Superficie total en m2 36717\n",
      "Superficie cubierta en m2 17681\n",
      "Precio U$S por m2 47169\n",
      "Precio por m2 28785\n",
      "Piso 104024\n",
      "Habitaciones 65857\n",
      "Expensas 98140\n",
      "Descripción 2\n",
      "Título 0\n",
      "Localidad 0\n"
     ]
    }
   ],
   "source": [
    "#me fijo cuantos nulos aun tengo en el data set, haciendo foco en pais, provincia, y localidad, que deberia estar totalmente completo\n",
    "\n",
    "for col in data.columns:\n",
    "    print(col + \" \" + str(data[col].isna().sum()))"
   ]
  },
  {
   "cell_type": "markdown",
   "metadata": {},
   "source": [
    "# Análisis de la columna 'Descripción'\n",
    "\n",
    "En este momento decidimos explorar la columna 'Descripción' para investigar qué información interesante y útil podíamos relevar de su contenido y qué campos podíamos completar de las columnas que quedaron en nuestro dataset. Para esto nos valimos de las expresiones regulares.\n",
    "\n",
    "Elegimos las siguientes palabras claves para apligar las RegEx: habitación, habitaciones, dormitorio, baño, baños, patio, cochera, lavadero, amenities, ambientes, toilette, laundry, pileta\n",
    "\n"
   ]
  },
  {
   "cell_type": "code",
   "execution_count": 38,
   "metadata": {},
   "outputs": [
    {
     "name": "stdout",
     "output_type": "stream",
     "text": [
      "2 AMBIENTES TIPO CASA PLANTA BAJA POR PASILLO, REFACCIONADO A NUEVO, PATIO GRANDE, CON LAVADERO, LIVING COMEDOR CON COCINA INTEGRADA, ARTEFACTO DE COCINA, ALACENA, BAÑO COMPLETO, Y DORMITORIO. TODO EN EXCELENTE ESTADO, PARA HABITAR.NO ES APTO CREDITO Aviso publicado por Pixel Inmobiliario (Servicio de Páginas Web para Inmobiliarias).\n",
      "\n",
      "\n",
      "Venta de departamento en décimo piso al frente, a estrenar. Living comedor con ventanales hacia el balcón con pisos de madera. Cocina completa con doble mesada, muebles bajo mesada. Lavadero separado. Toilette.Dormitorio con placard. Segundo dormitorio a dividir. Calefacción por radiadorBaño completo.Balcón corrido. Posibilidad de cochera semicubierta. U$D 20.000                     Aviso publicado por Pixel Inmobiliario (Servicio de Páginas Web para Inmobiliarias).\n",
      "\n",
      "\n",
      "2 AMBIENTES 3ER PISO LATERAL LIVING COMEDOR AMPLIO COCINA SEPARADA CON LAVADERO, BAÑO COMPLETO Y DORMITORIO CON PLACARD. BAJAS EXPENSAS, EXCELENTE UBICACION     Aviso publicado por Pixel Inmobiliario (Servicio de Páginas Web para Inmobiliarias).\n",
      "\n",
      "\n",
      "PH 3 ambientes con patio. Hay 3 deptos en lote, 2 en PB y 1 en 1º piso.Reciclado a nuevo. \"Muy buen estado\"     Aviso publicado por Pixel Inmobiliario (Servicio de Páginas Web para Inmobiliarias).\n",
      "\n",
      "\n",
      "DEPARTAMENTO CON FANTÁSTICA ILUMINACIÓN NATURAL,  AL CONTRAFRENTE, EDIFICIO DE POCAS UNIDADES Y MUY BIEN CONSERVADO. EN ESTADO ORIGINAL.-POSEE: 1 DORMITORIOS,  1 BAÑO COMPLETO, LIVING COMEDOR Y COCINA SEPARADA.-EN ESTADO ORIGINAL.- Aviso publicado por Pixel Inmobiliario (Servicio de Páginas Web para Inmobiliarias).\n",
      "\n",
      "\n",
      "Casa en el perímetro del barrio 338, ubicada en el extremo sur este del barrio, sobre calle 3 de caballería casi Nágera. Vista libre a terreno en frente.Consta de dos dormitorios, baño, living cocina comedor integrado de buen tamaño, lavadero con despensero en aluminio.Patio privado con churrasquera, tapiales y puerta de acceso de servicio. Frente con rejas y pequeño patio con verde, porch de acceso.Gas natural en la puerta. Aire acondicionado frío/calor. Baulera para guardado sobre pasillo. Muy buen estado en general de pisos, revestimientos, pintura, etc.Apto crédito. Aviso publicado por Pixel Inmobiliario (Servicio de Páginas Web para Inmobiliarias).\n",
      "\n",
      "\n",
      "MUY BUEN PH AL FRENTE CON ENTRADA INDEPENDIENTE - SIN EXPENSAS! TODO EN  PLANTA BAJA DOS DORMITORIOS (pisos de pinotea) - LIVING - COCINA COMEDOR - BAÑO - PATIO - GALPÓN Y LAVADERO EN EL PATIOEN MUY BUEN ESTADO - INMEJORABLE UBICACIÓN - A 1 CUADRA DE LA ESTACIÓN DE MUNRO -  CERCA DE MAS DE 6 LINEAS DE COLECTIVOS - A 2 CUADRAS DEL CENTRO UNIVERSITARIO. 106 m2 TOTALES: 78 m2 CUBIERTOS Y 28 m2 DESCUBIERTOSAPTO PROFESIONAL                                                 Aviso publicado por Pixel Inmobiliario (Servicio de Páginas Web para Inmobiliarias).\n",
      "\n",
      "\n",
      "EXCELENTE MONOAMBIENTE A ESTRENAR AMPLIO SUPER LUMINOSO ...PISO ALTO COCINA AMERICANA. BAÑO COMPLETO PILETA ,SOLARIUM, LAUNDRY APTO PROFESIONALPROXIMO AV DEL LIBERTADOR  MUY BUENA ZONA !!!! Aviso publicado por Pixel Inmobiliario (Servicio de Páginas Web para Inmobiliarias).\n",
      "\n",
      "\n",
      "EXCELENTE DOS AMBIENTES  ESTRENAR AMPLIO SUPER LUMINOSO ...PISO ALTO COCINA AMERICANA. BAÑO COMPLETO PILETA ,SOLARIUM, LAUNDRY APTO PROFESIONALPROXIMO AV DEL LIBERTADOR  MUY BUENA ZONA !!!! Aviso publicado por Pixel Inmobiliario (Servicio de Páginas Web para Inmobiliarias).\n",
      "\n",
      "\n",
      "MEDNOZA AL 7600A UNA CUADRA DE CALLE MENDOZAWHITE 7637 SECTOR E MONOBLOK 67LISTO PARA ESCRITURARPLANTA BAJA CON PATIO2 DORMITORIOSLIVING COMEDORCOCINA INDEPENDIENTELAVADEROPATIOS ADELANTE Y ATRÁSLUMINOSO, MUY BUENA VENTILACIÓNIMPUESTOS Y SERVICIOS AL DIADEUDA DE LA VIVIENDA TOTALMENTE CANCELADA         Aviso publicado por Pixel Inmobiliario (Servicio de Páginas Web para Inmobiliarias).\n",
      "\n",
      "\n"
     ]
    }
   ],
   "source": [
    "# Analizamos las 10 primeras observaciones para ver si los strings son uniformes. Resultan muy variados para trabajar.\n",
    "\n",
    "for i in range(10):  \n",
    "    print(data['Descripción'][i] + \"\\n\\n\")"
   ]
  },
  {
   "cell_type": "code",
   "execution_count": 39,
   "metadata": {},
   "outputs": [],
   "source": [
    "# Creamos una nueva columna, 'Descripción limpia', para trabajarsu contenido con todos los strings en minúscula.\n",
    "\n",
    "data['Descripción limpia'] = data['Descripción'].str.lower()"
   ]
  },
  {
   "cell_type": "code",
   "execution_count": 40,
   "metadata": {},
   "outputs": [],
   "source": [
    "# Ahora vamos a reemplazar todos los números escritos con letras, por sus respectivos dígitos decimales. Ya que usualmente\n",
    "# se usa para el número de habitaciones o baños, raramente tendremso un número mayor a 5, por lo cual sólo buscaremos y \n",
    "# reemplazaremos las cadenas \"un\" , \"dos\", \"tres\", \"cuatro\" y \"cinco\"\n",
    "\n",
    "data['Descripción limpia'] = data['Descripción limpia'].apply(lambda x: x if x is np.NaN else re.sub('\\s(un)\\s', ' 1 ', x))\n",
    "data['Descripción limpia'] = data['Descripción limpia'].apply(lambda x: x if x is np.NaN else re.sub('\\s(dos)\\s', ' 2 ', x))\n",
    "data['Descripción limpia'] = data['Descripción limpia'].apply(lambda x: x if x is np.NaN else re.sub('\\s(tres)\\s', ' 3 ', x))\n",
    "data['Descripción limpia'] = data['Descripción limpia'].apply(lambda x: x if x is np.NaN else re.sub('\\s(cuatro)\\s', ' 4 ', x))\n",
    "data['Descripción limpia'] = data['Descripción limpia'].apply(lambda x: x if x is np.NaN else re.sub('\\s(cinco)\\s', ' 5 ', x))\n"
   ]
  },
  {
   "cell_type": "markdown",
   "metadata": {},
   "source": [
    "### Número de habitaciones/dormitorios"
   ]
  },
  {
   "cell_type": "code",
   "execution_count": 41,
   "metadata": {},
   "outputs": [
    {
     "data": {
      "text/plain": [
       "0           dormit\n",
       "1           dormit\n",
       "2           dormit\n",
       "3              NaN\n",
       "4         1 dormit\n",
       "            ...   \n",
       "121214         NaN\n",
       "121215    2 dormit\n",
       "121216    3 dormit\n",
       "121217         NaN\n",
       "121218      dormit\n",
       "Name: Dormitorios descripción, Length: 111581, dtype: object"
      ]
     },
     "execution_count": 41,
     "metadata": {},
     "output_type": "execute_result"
    }
   ],
   "source": [
    "# Buscamos las palabras clave \"habitación/es\", \"dormitorio/s\" con su cantidad y guardamos los resultados en una nueva columna\n",
    "\n",
    "patron_dormit = '(\\d)?(\\d)?(\\s+)(habitac|dormit)'\n",
    "regex_dormit = re.compile(patron_dormit)\n",
    "\n",
    "data['Dormitorios descripción'] = data['Descripción limpia'].apply(lambda x: x if x is np.NaN else re.search(regex_dormit,x))\n",
    "\n",
    "dormit_mask = data['Dormitorios descripción'].notnull()\n",
    "\n",
    "# Guardamos el resultado de la búsqueda (Group 0) en la misma columna\n",
    "data['Dormitorios descripción'] = data.loc[dormit_mask,'Dormitorios descripción'].apply(lambda x: x.group(0))\n",
    "\n",
    "data['Dormitorios descripción']"
   ]
  },
  {
   "cell_type": "code",
   "execution_count": 42,
   "metadata": {},
   "outputs": [
    {
     "data": {
      "text/plain": [
       "0         1\n",
       "1         1\n",
       "2         1\n",
       "4         1\n",
       "5         2\n",
       "         ..\n",
       "121212    1\n",
       "121213    3\n",
       "121215    2\n",
       "121216    3\n",
       "121218    1\n",
       "Name: Dormitorios descripción, Length: 76169, dtype: object"
      ]
     },
     "execution_count": 42,
     "metadata": {},
     "output_type": "execute_result"
    }
   ],
   "source": [
    "# Realizamos una nueva búsqueda para dejar sólo el número de habitaciones, y asignaremos 1 en caso que no encuentre.\n",
    "# Al número encontrado lo asignamos como tipo 'int'.\n",
    "\n",
    "data.loc[dormit_mask,'Dormitorios descripción'] = data.loc[dormit_mask,'Dormitorios descripción'].apply(lambda x: re.search('\\d?\\d',x))\n",
    "\n",
    "# Volvemos a guardar sobre la misma columna el resultado de búsqueda (Group 0) y asingamos 1 en caso de None (búsqueda sin \n",
    "# resultado)\n",
    "data.loc[dormit_mask,'Dormitorios descripción'] = data.loc[dormit_mask,'Dormitorios descripción'].apply(lambda x: 1 if x is None else int(x.group(0)))  \n",
    "\n",
    "data.loc[dormit_mask,'Dormitorios descripción']"
   ]
  },
  {
   "cell_type": "code",
   "execution_count": 43,
   "metadata": {},
   "outputs": [
    {
     "name": "stdout",
     "output_type": "stream",
     "text": [
      "Porcentaje de filas con datos: 68.26 %\n"
     ]
    },
    {
     "data": {
      "text/plain": [
       "1     34754\n",
       "2     22662\n",
       "3     14449\n",
       "4      3360\n",
       "5       560\n",
       "      ...  \n",
       "48        1\n",
       "43        1\n",
       "36        1\n",
       "29        1\n",
       "95        1\n",
       "Name: Dormitorios descripción, Length: 69, dtype: int64"
      ]
     },
     "execution_count": 43,
     "metadata": {},
     "output_type": "execute_result"
    }
   ],
   "source": [
    "# Analizamos los resultados que obtuvimos.\n",
    "\n",
    "porc_habit = round(dormit_mask.sum()/data.shape[0]*100, 2)\n",
    "print(\"Porcentaje de filas con datos: \"+ str(porc_habit)+' %')\n",
    "\n",
    "data['Dormitorios descripción'].value_counts()"
   ]
  },
  {
   "cell_type": "code",
   "execution_count": 44,
   "metadata": {},
   "outputs": [
    {
     "name": "stdout",
     "output_type": "stream",
     "text": [
      "Cant. prop > 10 habit: 201\n",
      "Porc. de la muestra: 0.18%\n"
     ]
    },
    {
     "data": {
      "text/html": [
       "<div>\n",
       "<style scoped>\n",
       "    .dataframe tbody tr th:only-of-type {\n",
       "        vertical-align: middle;\n",
       "    }\n",
       "\n",
       "    .dataframe tbody tr th {\n",
       "        vertical-align: top;\n",
       "    }\n",
       "\n",
       "    .dataframe thead th {\n",
       "        text-align: right;\n",
       "    }\n",
       "</style>\n",
       "<table border=\"1\" class=\"dataframe\">\n",
       "  <thead>\n",
       "    <tr style=\"text-align: right;\">\n",
       "      <th></th>\n",
       "      <th>Descripción limpia</th>\n",
       "      <th>Dormitorios descripción</th>\n",
       "    </tr>\n",
       "  </thead>\n",
       "  <tbody>\n",
       "    <tr>\n",
       "      <th>77219</th>\n",
       "      <td>excelente hotel boutique en venta - corazón de...</td>\n",
       "      <td>12</td>\n",
       "    </tr>\n",
       "    <tr>\n",
       "      <th>48736</th>\n",
       "      <td>piso 2°c. hermoso departamento (apto profesion...</td>\n",
       "      <td>60</td>\n",
       "    </tr>\n",
       "    <tr>\n",
       "      <th>100344</th>\n",
       "      <td>venta de casa americana a refaccionar en caste...</td>\n",
       "      <td>23</td>\n",
       "    </tr>\n",
       "    <tr>\n",
       "      <th>48861</th>\n",
       "      <td>piso 2° \"e\". gran ambiente, con balcón !!! súp...</td>\n",
       "      <td>60</td>\n",
       "    </tr>\n",
       "    <tr>\n",
       "      <th>18180</th>\n",
       "      <td>se trata de una propiedad desarrollada todo en...</td>\n",
       "      <td>14</td>\n",
       "    </tr>\n",
       "    <tr>\n",
       "      <th>61975</th>\n",
       "      <td>departamento en ventario de janeiro al 300 2 a...</td>\n",
       "      <td>70</td>\n",
       "    </tr>\n",
       "    <tr>\n",
       "      <th>111193</th>\n",
       "      <td>ubicada en callejón privado, con salida sobre ...</td>\n",
       "      <td>54</td>\n",
       "    </tr>\n",
       "    <tr>\n",
       "      <th>94695</th>\n",
       "      <td>excelente unidad de 2 ambientes, ubicada en el...</td>\n",
       "      <td>40</td>\n",
       "    </tr>\n",
       "    <tr>\n",
       "      <th>93427</th>\n",
       "      <td>\\texcelente piso de 6 ambientes con dependenc...</td>\n",
       "      <td>44</td>\n",
       "    </tr>\n",
       "    <tr>\n",
       "      <th>76982</th>\n",
       "      <td>apta credito bancariocasa sobre lote de 8,66 x...</td>\n",
       "      <td>75</td>\n",
       "    </tr>\n",
       "  </tbody>\n",
       "</table>\n",
       "</div>"
      ],
      "text/plain": [
       "                                       Descripción limpia  \\\n",
       "77219   excelente hotel boutique en venta - corazón de...   \n",
       "48736   piso 2°c. hermoso departamento (apto profesion...   \n",
       "100344  venta de casa americana a refaccionar en caste...   \n",
       "48861   piso 2° \"e\". gran ambiente, con balcón !!! súp...   \n",
       "18180   se trata de una propiedad desarrollada todo en...   \n",
       "61975   departamento en ventario de janeiro al 300 2 a...   \n",
       "111193  ubicada en callejón privado, con salida sobre ...   \n",
       "94695   excelente unidad de 2 ambientes, ubicada en el...   \n",
       "93427    \\texcelente piso de 6 ambientes con dependenc...   \n",
       "76982   apta credito bancariocasa sobre lote de 8,66 x...   \n",
       "\n",
       "       Dormitorios descripción  \n",
       "77219                       12  \n",
       "48736                       60  \n",
       "100344                      23  \n",
       "48861                       60  \n",
       "18180                       14  \n",
       "61975                       70  \n",
       "111193                      54  \n",
       "94695                       40  \n",
       "93427                       44  \n",
       "76982                       75  "
      ]
     },
     "execution_count": 44,
     "metadata": {},
     "output_type": "execute_result"
    }
   ],
   "source": [
    "# Encontramos 218 propiedades con más de 10 habitaciones, casos que habría que analizar si son válidos o no.\n",
    "\n",
    "mask = data['Dormitorios descripción']>10\n",
    "print(\"Cant. prop > 10 habit: \" + str(mask.sum()))\n",
    "print(\"Porc. de la muestra: \"+ str(round(mask.sum()/data.shape[0]*100,2))+'%')\n",
    "\n",
    "data.loc[mask,['Descripción limpia','Dormitorios descripción']].sample(10)\n",
    "\n",
    "# Dado que la cantidad de propiedades con mas de 10 habitaciones es muy baja en relación a la muestra, \n",
    "# para evitar errores y sesgos descartamos estos valores."
   ]
  },
  {
   "cell_type": "code",
   "execution_count": 45,
   "metadata": {},
   "outputs": [
    {
     "data": {
      "text/plain": [
       "'corredor responsable: martin macagno - cucicba 6267contacto: rosana romera - mls id # 420561019-66departamento de 2 ambientes en venta  con balcon contra-frente luminoso - apto credito living-comedor:4,13 x 2,85 dormitorio:3,18 x 2,74 cocina: 2,40 x 1,68 bano: 1,82 x 1.82 balcon: 2,50 x 1,10 con cerramiento pisos de parquet en muy buen estado- impecable. expensas $1520.- a metros de av. independencia, cercano a subte e  y h.'"
      ]
     },
     "execution_count": 45,
     "metadata": {},
     "output_type": "execute_result"
    }
   ],
   "source": [
    "data.loc[119741,'Descripción limpia']"
   ]
  },
  {
   "cell_type": "code",
   "execution_count": 46,
   "metadata": {},
   "outputs": [
    {
     "data": {
      "text/plain": [
       "12        NaN\n",
       "145       NaN\n",
       "2296      NaN\n",
       "3247      NaN\n",
       "3775      NaN\n",
       "         ... \n",
       "117650    NaN\n",
       "119741    NaN\n",
       "119985    NaN\n",
       "120149    NaN\n",
       "121147    NaN\n",
       "Name: Dormitorios descripción, Length: 201, dtype: object"
      ]
     },
     "execution_count": 46,
     "metadata": {},
     "output_type": "execute_result"
    }
   ],
   "source": [
    "data.loc[mask,'Dormitorios descripción'] = np.NaN\n",
    "data.loc[mask,'Dormitorios descripción']"
   ]
  },
  {
   "cell_type": "code",
   "execution_count": 47,
   "metadata": {},
   "outputs": [
    {
     "data": {
      "text/plain": [
       "1     34754\n",
       "2     22662\n",
       "3     14449\n",
       "4      3360\n",
       "5       560\n",
       "6        80\n",
       "7        30\n",
       "8        24\n",
       "9        22\n",
       "10       17\n",
       "0        10\n",
       "Name: Dormitorios descripción, dtype: int64"
      ]
     },
     "execution_count": 47,
     "metadata": {},
     "output_type": "execute_result"
    }
   ],
   "source": [
    "data['Dormitorios descripción'].value_counts()"
   ]
  },
  {
   "cell_type": "code",
   "execution_count": 48,
   "metadata": {},
   "outputs": [
    {
     "data": {
      "text/html": [
       "<div>\n",
       "<style scoped>\n",
       "    .dataframe tbody tr th:only-of-type {\n",
       "        vertical-align: middle;\n",
       "    }\n",
       "\n",
       "    .dataframe tbody tr th {\n",
       "        vertical-align: top;\n",
       "    }\n",
       "\n",
       "    .dataframe thead th {\n",
       "        text-align: right;\n",
       "    }\n",
       "</style>\n",
       "<table border=\"1\" class=\"dataframe\">\n",
       "  <thead>\n",
       "    <tr style=\"text-align: right;\">\n",
       "      <th></th>\n",
       "      <th>Descripción limpia</th>\n",
       "      <th>Dormitorios descripción</th>\n",
       "    </tr>\n",
       "  </thead>\n",
       "  <tbody>\n",
       "    <tr>\n",
       "      <th>24501</th>\n",
       "      <td>codigo: 1179-dd391246 ubicado en: beazley 893 ...</td>\n",
       "      <td>0</td>\n",
       "    </tr>\n",
       "    <tr>\n",
       "      <th>30475</th>\n",
       "      <td>corredor responsable: raul lopez - csi 6292con...</td>\n",
       "      <td>0</td>\n",
       "    </tr>\n",
       "    <tr>\n",
       "      <th>34744</th>\n",
       "      <td>excelente departamento en venta! se trata de 1...</td>\n",
       "      <td>0</td>\n",
       "    </tr>\n",
       "    <tr>\n",
       "      <th>46526</th>\n",
       "      <td>venta - local - argentina, buenos aires, zona ...</td>\n",
       "      <td>0</td>\n",
       "    </tr>\n",
       "    <tr>\n",
       "      <th>52586</th>\n",
       "      <td>dpto de 2 amb al contrafrente con balcon vista...</td>\n",
       "      <td>0</td>\n",
       "    </tr>\n",
       "    <tr>\n",
       "      <th>52590</th>\n",
       "      <td>dpto de 2 amb al contrafrente con balcon vista...</td>\n",
       "      <td>0</td>\n",
       "    </tr>\n",
       "    <tr>\n",
       "      <th>59660</th>\n",
       "      <td>corredor responsable: gustavo guastello - c.u....</td>\n",
       "      <td>0</td>\n",
       "    </tr>\n",
       "    <tr>\n",
       "      <th>63907</th>\n",
       "      <td>corredor responsable: daniel acosta - csi 5953...</td>\n",
       "      <td>0</td>\n",
       "    </tr>\n",
       "    <tr>\n",
       "      <th>73699</th>\n",
       "      <td>departamento tipo casa, al frente. hay otra un...</td>\n",
       "      <td>0</td>\n",
       "    </tr>\n",
       "    <tr>\n",
       "      <th>99424</th>\n",
       "      <td>ph en venta en palermo soho 4 ambientes con te...</td>\n",
       "      <td>0</td>\n",
       "    </tr>\n",
       "  </tbody>\n",
       "</table>\n",
       "</div>"
      ],
      "text/plain": [
       "                                      Descripción limpia  \\\n",
       "24501  codigo: 1179-dd391246 ubicado en: beazley 893 ...   \n",
       "30475  corredor responsable: raul lopez - csi 6292con...   \n",
       "34744  excelente departamento en venta! se trata de 1...   \n",
       "46526  venta - local - argentina, buenos aires, zona ...   \n",
       "52586  dpto de 2 amb al contrafrente con balcon vista...   \n",
       "52590  dpto de 2 amb al contrafrente con balcon vista...   \n",
       "59660  corredor responsable: gustavo guastello - c.u....   \n",
       "63907  corredor responsable: daniel acosta - csi 5953...   \n",
       "73699  departamento tipo casa, al frente. hay otra un...   \n",
       "99424  ph en venta en palermo soho 4 ambientes con te...   \n",
       "\n",
       "      Dormitorios descripción  \n",
       "24501                       0  \n",
       "30475                       0  \n",
       "34744                       0  \n",
       "46526                       0  \n",
       "52586                       0  \n",
       "52590                       0  \n",
       "59660                       0  \n",
       "63907                       0  \n",
       "73699                       0  \n",
       "99424                       0  "
      ]
     },
     "execution_count": 48,
     "metadata": {},
     "output_type": "execute_result"
    }
   ],
   "source": [
    "# Evaluamos los casos con 0.\n",
    "\n",
    "mask_0 = data['Dormitorios descripción'] == 0\n",
    "data.loc[mask_0,['Descripción limpia','Dormitorios descripción']]"
   ]
  },
  {
   "cell_type": "code",
   "execution_count": 49,
   "metadata": {},
   "outputs": [],
   "source": [
    "# Debido a la poca cantidad de casos, y lo variado en las descripciones, se decide eliminar el dato '0'.\n",
    "\n",
    "data.loc[mask_0,'Dormitorios descripción'] = np.NaN"
   ]
  },
  {
   "cell_type": "code",
   "execution_count": 50,
   "metadata": {
    "scrolled": true
   },
   "outputs": [
    {
     "name": "stdout",
     "output_type": "stream",
     "text": [
      "Frecuencia de cant. de dormitorios:\n",
      "\n",
      "1     34754\n",
      "2     22662\n",
      "3     14449\n",
      "4      3360\n",
      "5       560\n",
      "6        80\n",
      "7        30\n",
      "8        24\n",
      "9        22\n",
      "10       17\n",
      "Name: Dormitorios descripción, dtype: int64\n",
      "\n",
      "Cantidad de valores nulos: \n",
      "35623\n",
      "\n",
      "Porcentaje de datos recuperados: \n",
      "68.07\n"
     ]
    }
   ],
   "source": [
    "# Finalente vemos como queda el campo resultado.\n",
    "\n",
    "print(\"Frecuencia de cant. de dormitorios:\\n\")\n",
    "print(data['Dormitorios descripción'].value_counts())\n",
    "\n",
    "print('\\nCantidad de valores nulos: ')\n",
    "print(data['Dormitorios descripción'].isnull().sum())\n",
    "\n",
    "print('\\nPorcentaje de datos recuperados: ')\n",
    "print(round(data['Dormitorios descripción'].notnull().sum()/data.shape[0]*100,2))"
   ]
  },
  {
   "cell_type": "markdown",
   "metadata": {},
   "source": [
    "### Cochera"
   ]
  },
  {
   "cell_type": "code",
   "execution_count": 51,
   "metadata": {},
   "outputs": [
    {
     "data": {
      "text/plain": [
       "cochera    39256\n",
       "Name: cochera, dtype: int64"
      ]
     },
     "execution_count": 51,
     "metadata": {},
     "output_type": "execute_result"
    }
   ],
   "source": [
    "#Genero el patron de búsqueda para Cochera\n",
    "patron_cochera = \"(?P<cochera>(cochera)\\S*)\"\n",
    "regex_cochera = re.compile(patron_cochera)\n",
    "cochera = data['Descripción limpia'].apply(lambda x: x if x is np.NaN else re.search(regex_cochera,x))\n",
    "\n",
    "#print(data['cochera'].notnull().sum())\n",
    "cochera_mask = cochera.notnull()\n",
    "\n",
    "#creo la nueva columna en el dataset \n",
    "data.loc[cochera_mask, \"cochera\"] = cochera[cochera_mask].apply(lambda x: x.group(\"cochera\"))\n",
    "\n",
    "#Para unificar los valores reemplazo por \"cochera\" el contenido de toda fila que haya hecho match\n",
    "data.cochera = data.cochera.astype(str)\n",
    "data['cochera'] = data['cochera'].apply(lambda x: x if x is np.NaN else re.sub('cochera.*', \"cochera\", x))\n",
    "data['cochera'].replace('nan', np.nan, inplace=True)\n",
    "data['cochera'].value_counts()"
   ]
  },
  {
   "cell_type": "markdown",
   "metadata": {},
   "source": [
    "### Amenities"
   ]
  },
  {
   "cell_type": "code",
   "execution_count": 52,
   "metadata": {},
   "outputs": [
    {
     "data": {
      "text/plain": [
       "amenities    52606\n",
       "Name: amenities, dtype: int64"
      ]
     },
     "execution_count": 52,
     "metadata": {},
     "output_type": "execute_result"
    }
   ],
   "source": [
    "#Genero el patron de busqueda para generar una nueva columna que se llame Amenities\n",
    "patron_amenities = \"(?P<amenities>(piscina)\\S*|(picina)\\S*|(pileta)\\S*|(parrilla)\\S*|(laundry)\\S*|(quincho)\\S*|(amenities)\\S*|(gimnasio)\\S*|(gym)\\S*|sum\\s*)\"\n",
    "regex_amenities = re.compile(patron_amenities)\n",
    "amenities = data['Descripción limpia'].apply(lambda x: x if x is np.NaN else re.search(regex_amenities,x))\n",
    "\n",
    "amenities_mask = amenities.notnull()\n",
    "\n",
    "#Creo la nueva columna del dataset \"Amenities\"\n",
    "data.loc[amenities_mask, \"amenities\"] = amenities[amenities_mask].apply(lambda x: x.group(\"amenities\"))\n",
    "\n",
    "data.amenities = data.amenities.astype(str)\n",
    "data['amenities'] = data['amenities'].apply(lambda x: x if x is np.NaN else re.sub('piscina.*|picina.*|pileta.*|parrilla.*|laundry.*|quincho.*|amenities.*|gimnasio.*|gym.*|sum.*', \"amenities\", x))\n",
    "data['amenities'].replace('nan', np.nan, inplace=True)\n",
    "data['amenities'].value_counts()"
   ]
  },
  {
   "cell_type": "code",
   "execution_count": null,
   "metadata": {},
   "outputs": [],
   "source": []
  },
  {
   "cell_type": "markdown",
   "metadata": {},
   "source": [
    "### A estrenar"
   ]
  },
  {
   "cell_type": "code",
   "execution_count": 53,
   "metadata": {},
   "outputs": [
    {
     "data": {
      "text/plain": [
       "A estrenar    9808\n",
       "Name: estrenar, dtype: int64"
      ]
     },
     "execution_count": 53,
     "metadata": {},
     "output_type": "execute_result"
    }
   ],
   "source": [
    "#Genero el patron de busqueda para generar una nueva columna que se llame A estrenar\n",
    "patron_estrenar = \"(?P<estrenar>(a estrenar))\" \n",
    "regex_estrenar = re.compile(patron_estrenar)\n",
    "estrenar = data['Descripción limpia'].apply(lambda x: x if x is np.NaN else re.search(regex_estrenar,x))\n",
    "\n",
    "estrenar_mask = estrenar.notnull()\n",
    "\n",
    "#Creo la nueva columna del dataset \"estrenar\"\n",
    "data.loc[estrenar_mask, \"estrenar\"] = estrenar[estrenar_mask].apply(lambda x: x.group(\"estrenar\"))\n",
    "\n",
    "data.estrenar = data.estrenar.astype(str)\n",
    "data['estrenar'] = data['estrenar'].apply(lambda x: x if x is np.NaN else re.sub('(a estrenar)', \"A estrenar\", x))\n",
    "data['estrenar'].replace('nan', np.nan, inplace=True)\n",
    "data['estrenar'].value_counts()"
   ]
  },
  {
   "cell_type": "code",
   "execution_count": 54,
   "metadata": {},
   "outputs": [
    {
     "data": {
      "text/plain": [
       "0                NaN\n",
       "1         A estrenar\n",
       "2                NaN\n",
       "3                NaN\n",
       "4                NaN\n",
       "             ...    \n",
       "121214           NaN\n",
       "121215           NaN\n",
       "121216           NaN\n",
       "121217    A estrenar\n",
       "121218           NaN\n",
       "Name: estrenar, Length: 111581, dtype: object"
      ]
     },
     "execution_count": 54,
     "metadata": {},
     "output_type": "execute_result"
    }
   ],
   "source": [
    "data['estrenar']"
   ]
  },
  {
   "cell_type": "markdown",
   "metadata": {},
   "source": [
    "### Cantidad de ambientes"
   ]
  },
  {
   "cell_type": "code",
   "execution_count": 55,
   "metadata": {},
   "outputs": [
    {
     "data": {
      "text/plain": [
       "0         2 ambientes\n",
       "2         2 ambientes\n",
       "3         3 ambientes\n",
       "8         2 ambientes\n",
       "11         1 ambiente\n",
       "             ...     \n",
       "121138    2 ambientes\n",
       "121139    3 ambientes\n",
       "121160      ambientes\n",
       "121211      ambientes\n",
       "121217       ambiente\n",
       "Name: Ambientes descripción, Length: 45422, dtype: object"
      ]
     },
     "execution_count": 55,
     "metadata": {},
     "output_type": "execute_result"
    }
   ],
   "source": [
    "# Utilizamos el mismo proceso que en el paso anterior.\n",
    "\n",
    "patron_ambientes = '(\\d)?(\\d)?(\\s+)(ambiente(s?))'\n",
    "regex_ambientes = re.compile(patron_ambientes)\n",
    "\n",
    "data['Ambientes descripción'] = data['Descripción limpia'].apply(lambda x: x if x is np.NaN else re.search(regex_ambientes,x))\n",
    "\n",
    "ambientes_mask = data['Ambientes descripción'].notnull()\n",
    "\n",
    "# Guardamos el resultado de la búsqueda (Group 0) en la misma columna\n",
    "data['Ambientes descripción'] = data.loc[ambientes_mask,'Ambientes descripción'].apply(lambda x: x.group(0))\n",
    "\n",
    "data.loc[ambientes_mask,'Ambientes descripción']"
   ]
  },
  {
   "cell_type": "code",
   "execution_count": 56,
   "metadata": {},
   "outputs": [
    {
     "data": {
      "text/plain": [
       "0         2\n",
       "2         2\n",
       "3         3\n",
       "8         2\n",
       "11        1\n",
       "         ..\n",
       "121138    2\n",
       "121139    3\n",
       "121160    1\n",
       "121211    1\n",
       "121217    1\n",
       "Name: Ambientes descripción, Length: 45422, dtype: object"
      ]
     },
     "execution_count": 56,
     "metadata": {},
     "output_type": "execute_result"
    }
   ],
   "source": [
    "# Realizamos una nueva búsqueda para dejar sólo el número de ambientes, y asignaremos 1 en caso que no encuentre. \n",
    "# Al número encontrado lo asignamos como tipo 'int'.\n",
    "\n",
    "data.loc[ambientes_mask,'Ambientes descripción'] = data.loc[ambientes_mask,'Ambientes descripción'].apply(lambda x: re.search('\\d?\\d',x))\n",
    "\n",
    "# Volvemos a guardar sobre la misma columna el resultado de búsqueda (Group 0) y asingamos 1 en caso de None (búsqueda sin \n",
    "# resultado)\n",
    "\n",
    "data.loc[ambientes_mask,'Ambientes descripción'] = data.loc[ambientes_mask,'Ambientes descripción'].apply(lambda x: 1 if x is None else int(x.group(0)))  \n",
    "\n",
    "data.loc[ambientes_mask,'Ambientes descripción']"
   ]
  },
  {
   "cell_type": "code",
   "execution_count": 57,
   "metadata": {},
   "outputs": [
    {
     "data": {
      "text/plain": [
       "5403      venta de hotel  tilisarao, san luis, 16 habita...\n",
       "6017      a metros del mardescripcion:a estrenar en 2 pl...\n",
       "6704      a metros  del mara estrenardepartamento de 90 ...\n",
       "7689      excelente departamento monoambiente a estrenar...\n",
       "8892      arias 2371 se encuentra estratã©gicamente ubic...\n",
       "                                ...                        \n",
       "117551                            edificio de categoría,...\n",
       "118724    corredor responsable: luis roman garcia - c.u....\n",
       "119452    corredor responsable: cristian arnal ponti - c...\n",
       "119671    corredor responsable: jorge salafia - cucicba ...\n",
       "119900    corredor responsable: gustavo guastello - c.u....\n",
       "Name: Descripción limpia, Length: 82, dtype: object"
      ]
     },
     "execution_count": 57,
     "metadata": {},
     "output_type": "execute_result"
    }
   ],
   "source": [
    "data.loc[data['Ambientes descripción']>10,'Descripción limpia']"
   ]
  },
  {
   "cell_type": "markdown",
   "metadata": {},
   "source": [
    "# Precio en U$S\n",
    "\n",
    "Analizamos la columna descripción para tratar de recuperar precios faltantes de las propiedades en U$S."
   ]
  },
  {
   "cell_type": "markdown",
   "metadata": {},
   "source": [
    "Tomamos la columna descripción y aplicamos una función de búsqueda con la función re.search, para encontrar la cadena usd o u$s,seguida de uno o más dígitos decimales.\n",
    "Tomamos la precaución de contemplar el punto separador de miles, ya que en caso contrario solo trae los dígitos precedentes al mismo.\n",
    "\n",
    "Luego aplicamos otra función para \"quitar\" el punto, y convertimos el dato a tipo int para poder trabajarlo.\n",
    "\n"
   ]
  },
  {
   "cell_type": "code",
   "execution_count": 58,
   "metadata": {},
   "outputs": [
    {
     "data": {
      "text/plain": [
       "count    1.160100e+04\n",
       "mean     1.288440e+05\n",
       "std      3.043095e+05\n",
       "min      0.000000e+00\n",
       "25%      3.500000e+04\n",
       "50%      8.700000e+04\n",
       "75%      1.500000e+05\n",
       "max      1.550000e+07\n",
       "Name: Precio (U$S) descripción, dtype: float64"
      ]
     },
     "execution_count": 58,
     "metadata": {},
     "output_type": "execute_result"
    }
   ],
   "source": [
    "\n",
    "data['Precio (U$S) descripción'] = data['Descripción limpia'].apply(lambda x: x if x is np.NaN else re.search('(usd|u\\$s)\\s*(\\d+\\.?(\\d\\d\\d)?)',x))\n",
    "precio_usd_mask = data['Precio (U$S) descripción'].notnull()\n",
    "data['Precio (U$S) descripción'] = data.loc[precio_usd_mask, 'Precio (U$S) descripción'].apply(lambda x: x if x is None else x.group(2))\n",
    "data['Precio (U$S) descripción'] = data.loc[precio_usd_mask, 'Precio (U$S) descripción'].apply(lambda x: x if x is None else int(re.sub('\\.',\"\",x)))\n",
    "\n",
    "data.loc[precio_usd_mask,'Precio (U$S) descripción'].describe()"
   ]
  },
  {
   "cell_type": "code",
   "execution_count": 59,
   "metadata": {},
   "outputs": [
    {
     "data": {
      "text/plain": [
       "<matplotlib.axes._subplots.AxesSubplot at 0x17a6a42ea00>"
      ]
     },
     "execution_count": 59,
     "metadata": {},
     "output_type": "execute_result"
    },
    {
     "data": {
      "image/png": "[encoded data removed]",
      "text/plain": [
       "<Figure size 432x288 with 1 Axes>"
      ]
     },
     "metadata": {
      "needs_background": "light"
     },
     "output_type": "display_data"
    }
   ],
   "source": [
    "# Vemos que la búsqueda arroja 11160 resultados, con algunos valores extremos muy elevados que tendremos que evaluar.\n",
    "\n",
    "sns.boxplot(data.loc[precio_usd_mask,'Precio (U$S) descripción'])"
   ]
  },
  {
   "cell_type": "code",
   "execution_count": 60,
   "metadata": {},
   "outputs": [
    {
     "data": {
      "text/plain": [
       "49083     15500000.0\n",
       "114131    12000000.0\n",
       "45689     11111111.0\n",
       "34816     10585060.0\n",
       "75155      9750018.0\n",
       "85286      7660032.0\n",
       "119431     6500000.0\n",
       "106376     6000000.0\n",
       "33364      3950000.0\n",
       "13528      2500000.0\n",
       "Name: Precio (U$S) descripción, dtype: float64"
      ]
     },
     "execution_count": 60,
     "metadata": {},
     "output_type": "execute_result"
    }
   ],
   "source": [
    "data['Precio (U$S) descripción'].nlargest(10)"
   ]
  },
  {
   "cell_type": "code",
   "execution_count": 61,
   "metadata": {},
   "outputs": [
    {
     "data": {
      "text/plain": [
       "'codigo:  ubicado en: monseñor terrero , ituzaingó, buenos aires. -  publicado por: sabrina alvarez propiedades. el precio es de usd 12000000 null. excelente propiedad, apta credito hipotecario  ubicada a 15 cuadras de la estacion, hermoso barrio.  posee garage cubierto pasante, cocina comedor con muebles empotrados en excelente condiciones, 2 dormitorios con placar empotrado, baulera y piso de parket plastificado, aire acondicionado y estufa tiro balanceado se entrega tal cual esta. baño con bañera .  patio, lavdero cubierto con toldo retraible el mismo se extiende de pared a pared para que pueda quedar 1 ambiente totalmente cubierto.  terraza lista para seguir ampliando, en la misma se encuentra otro ambiente mas que puede ser utilizado como 1 dormitorio mas o como guarda utiles. . publicado a través de mapaprop'"
      ]
     },
     "execution_count": 61,
     "metadata": {},
     "output_type": "execute_result"
    }
   ],
   "source": [
    "data.loc[114131,'Descripción limpia']"
   ]
  },
  {
   "cell_type": "markdown",
   "metadata": {},
   "source": [
    "Comparamos la columna 'Precio' en U$S, con la nueva obtenida a partir de la descripción. Vemos que solo <b>929</b> de los <b>1160</b> valores encontrados no se encontraban en la columna 'Precio' en USD original."
   ]
  },
  {
   "cell_type": "code",
   "execution_count": 62,
   "metadata": {},
   "outputs": [
    {
     "data": {
      "text/plain": [
       "929"
      ]
     },
     "execution_count": 62,
     "metadata": {},
     "output_type": "execute_result"
    }
   ],
   "source": [
    "moneda_mask = data['Moneda']!='USD' \n",
    "precio_usd_comparac = data['Precio (U$S) descripción'].notnull() & moneda_mask\n",
    "\n",
    "precio_usd_comparac.sum()"
   ]
  },
  {
   "cell_type": "code",
   "execution_count": 63,
   "metadata": {},
   "outputs": [
    {
     "data": {
      "text/plain": [
       "26897"
      ]
     },
     "execution_count": 63,
     "metadata": {},
     "output_type": "execute_result"
    }
   ],
   "source": [
    "# Creamos una nueva columna en donde consolidamos todos los precios en USD, dando prioridad a la columna original, y \n",
    "# luego completando con los valores obtenidos del campo descripción.\n",
    "\n",
    "data['Precio (U$S) final'] = data.loc[data['Moneda'] == 'USD','Precio']\n",
    "\n",
    "data.loc[precio_usd_comparac,'Precio (U$S) final'] = data.loc[precio_usd_comparac,'Precio (U$S) descripción']\n",
    "\n",
    "data['Precio (U$S) final'].isnull().sum()"
   ]
  },
  {
   "cell_type": "code",
   "execution_count": 64,
   "metadata": {},
   "outputs": [
    {
     "data": {
      "text/plain": [
       "count     82363.000000\n",
       "mean     214695.140658\n",
       "std      172948.681742\n",
       "min           1.000000\n",
       "25%       98000.000000\n",
       "50%      155000.000000\n",
       "75%      270000.000000\n",
       "max      999999.000000\n",
       "Name: Precio (U$S) final, dtype: float64"
      ]
     },
     "execution_count": 64,
     "metadata": {},
     "output_type": "execute_result"
    }
   ],
   "source": [
    "# Filtramos los valores para que solo muestre precios mayores a 0 y menores que 1e6\n",
    "\n",
    "precio_usd_recort = (data['Precio (U$S) final'] > 0) & (data['Precio (U$S) final'] < 1e6)\n",
    "\n",
    "data.loc[precio_usd_recort,'Precio (U$S) final'].describe()"
   ]
  },
  {
   "cell_type": "code",
   "execution_count": 65,
   "metadata": {
    "scrolled": true
   },
   "outputs": [
    {
     "data": {
      "text/plain": [
       "<matplotlib.axes._subplots.AxesSubplot at 0x17a6b0ecbb0>"
      ]
     },
     "execution_count": 65,
     "metadata": {},
     "output_type": "execute_result"
    },
    {
     "data": {
      "image/png": "[encoded data removed]",
      "text/plain": [
       "<Figure size 432x288 with 1 Axes>"
      ]
     },
     "metadata": {
      "needs_background": "light"
     },
     "output_type": "display_data"
    }
   ],
   "source": [
    "sns.boxplot(data.loc[precio_usd_recort,'Precio (U$S) final'], hue=data['Provincia'])"
   ]
  },
  {
   "cell_type": "markdown",
   "metadata": {},
   "source": [
    "## Imputaciones de los valores faltantes"
   ]
  },
  {
   "cell_type": "code",
   "execution_count": 66,
   "metadata": {},
   "outputs": [
    {
     "name": "stdout",
     "output_type": "stream",
     "text": [
      "La cantidad de precios en dolares que se pueden imputar mediante las columnas de superficie en m2 y precio en m2 son 0\n"
     ]
    }
   ],
   "source": [
    "#Corroboramos si hay algún valor que se pueda completar de los datos de \n",
    "#primero me voy a fijar si existe algun valor que se pueda completar con los datos de superficie total y precio por m2 \n",
    "# en dolares para los valores de precio en dolares\n",
    "\n",
    "    \n",
    "mask_precio_nulo =  data['Precio aproximado (U$S)'].isnull()\n",
    "mask_superficie_total = data['Superficie total en m2'].notnull()\n",
    "mask_precio_m2 =  data['Precio por m2'].notnull()\n",
    "mask_valores_a_completar = mask_superficie_total & mask_precio_m2 & mask_precio_nulo\n",
    "\n",
    "print ('La cantidad de precios en dolares que se pueden imputar mediante las columnas de superficie en m2 y precio en m2 son ' + \\\n",
    "       str(mask_valores_a_completar.sum()))"
   ]
  },
  {
   "cell_type": "code",
   "execution_count": 67,
   "metadata": {},
   "outputs": [
    {
     "name": "stdout",
     "output_type": "stream",
     "text": [
      "Tipo de propiedad 0\n",
      "Provincia 0\n",
      "Precio 16717\n",
      "Moneda 16717\n",
      "Precio aproximado ($) 16717\n",
      "Precio aproximado (U$S) 16717\n",
      "Superficie total en m2 36717\n",
      "Superficie cubierta en m2 17681\n",
      "Precio U$S por m2 47169\n",
      "Precio por m2 28785\n",
      "Piso 104024\n",
      "Habitaciones 65857\n",
      "Expensas 98140\n",
      "Descripción 2\n",
      "Título 0\n",
      "Localidad 0\n",
      "Descripción limpia 2\n",
      "Dormitorios descripción 35623\n",
      "cochera 72325\n",
      "amenities 58975\n",
      "estrenar 101773\n",
      "Ambientes descripción 66159\n",
      "Precio (U$S) descripción 99980\n",
      "Precio (U$S) final 26897\n"
     ]
    }
   ],
   "source": [
    "for col in data.columns:\n",
    "    print(col + \" \" + str(data[col].isna().sum()))"
   ]
  },
  {
   "cell_type": "markdown",
   "metadata": {},
   "source": [
    "# Visualización de datos y tratamiento de outliers\n",
    "\n",
    "Llegado este punto, decidimos enfocarnos en el área metropolitana de Buenos Aires, el AMBA. Tomamos esta decisión ya que allí se concentran la mayoría de las observaciones y tiene un gran interés inmobiliario, además de comprender zonas que geográficamente están cerca con realidades socioeconómicas muy distintas.\n",
    "\n",
    "Lo primero que vamos a hacer es dropear las filas con valores NaN en el precio para facilitar el trabajo. Dado que nuestro próximo desafío consistirá en predecir con modelos de Machine Learning, imputar valores faltantes con datos que no conocemos puede ser perjudicial para el algoritmo."
   ]
  },
  {
   "cell_type": "code",
   "execution_count": 68,
   "metadata": {},
   "outputs": [
    {
     "data": {
      "text/plain": [
       "(array([0, 1, 2, 3, 4, 5, 6, 7, 8, 9]),\n",
       " <a list of 10 Text major ticklabel objects>)"
      ]
     },
     "execution_count": 68,
     "metadata": {},
     "output_type": "execute_result"
    },
    {
     "data": {
      "image/png": "[encoded data removed]",
      "text/plain": [
       "<Figure size 432x288 with 1 Axes>"
      ]
     },
     "metadata": {
      "needs_background": "light"
     },
     "output_type": "display_data"
    }
   ],
   "source": [
    "# Creamos un countplot para ver las 10 zonas con más observaciones. En base a esto, elegimos el AMBA.\n",
    "\n",
    "ax = sns.countplot(x=\"Provincia\", data=data, order=data.Provincia.value_counts().iloc[:10].index)\n",
    "plt.xticks(rotation=90)\n"
   ]
  },
  {
   "cell_type": "code",
   "execution_count": 69,
   "metadata": {},
   "outputs": [
    {
     "data": {
      "text/plain": [
       "0"
      ]
     },
     "execution_count": 69,
     "metadata": {},
     "output_type": "execute_result"
    }
   ],
   "source": [
    "# Dropeamos todos los valores NaN del precio final.\n",
    "\n",
    "data.dropna(subset = [\"Precio (U$S) final\"], inplace=True)\n",
    "data['Precio (U$S) final'].isna().sum()"
   ]
  },
  {
   "cell_type": "code",
   "execution_count": 70,
   "metadata": {},
   "outputs": [],
   "source": [
    "# Creamos un DataFrame para cada zona.\n",
    "\n",
    "caba_mask =  data['Provincia'] == 'Capital Federal'\n",
    "caba = data[caba_mask]\n",
    "\n",
    "gba_norte_mask =  data['Provincia'] == 'Bs.As. G.B.A. Zona Norte'\n",
    "gba_norte = data[gba_norte_mask]\n",
    "\n",
    "gba_oeste_mask =  data['Provincia'] == 'Bs.As. G.B.A. Zona Oeste'\n",
    "gba_oeste = data[gba_oeste_mask]\n",
    "\n",
    "gba_sur_mask =  data['Provincia'] == 'Bs.As. G.B.A. Zona Sur'\n",
    "gba_sur = data[gba_sur_mask]"
   ]
  },
  {
   "cell_type": "code",
   "execution_count": 71,
   "metadata": {},
   "outputs": [
    {
     "data": {
      "image/png": "[encoded data removed]",
      "text/plain": [
       "<Figure size 479.52x360 with 1 Axes>"
      ]
     },
     "metadata": {
      "needs_background": "light"
     },
     "output_type": "display_data"
    }
   ],
   "source": [
    "#Intentamos ver la distribución de los datos pero hay tantos outliers que no nos permiten verla claramente.\n",
    "\n",
    "medianprops = dict(linestyle='--', linewidth=1.5, color='#17202A')\n",
    "\n",
    "fig, ax = plt.subplots()\n",
    "\n",
    "bplot= ax.boxplot([caba['Precio (U$S) final'], gba_norte['Precio (U$S) final'], gba_oeste['Precio (U$S) final'], gba_sur['Precio (U$S) final']], vert=True, patch_artist=True, labels=['C.A.B.A.', 'G.B.A. Norte', 'G.B.A. Oeste', 'G.B.A. Sur'], medianprops=medianprops)\n",
    "\n",
    "colors = ['#E74C3C', '#9B59B6', '#3498DB', '#F39C12']\n",
    "\n",
    "for patch, color in zip(bplot['boxes'], colors):\n",
    "        patch.set_facecolor(color)\n",
    "    \n",
    "plt.xlabel('Zona AMBA', size= 16)\n",
    "plt.ylabel('Precio (U$S)', size= 16)\n",
    "plt.title('Distribución de precios por zona', fontdict={'fontsize': 20}, loc='center')\n",
    "\n",
    "fig.set_size_inches(6.66, 5)\n",
    "\n",
    "plt.show()"
   ]
  },
  {
   "cell_type": "code",
   "execution_count": 72,
   "metadata": {
    "scrolled": true
   },
   "outputs": [
    {
     "data": {
      "image/png": "[encoded data removed]",
      "text/plain": [
       "<Figure size 432x288 with 1 Axes>"
      ]
     },
     "metadata": {},
     "output_type": "display_data"
    }
   ],
   "source": [
    "sns.set()\n",
    "plt.hist(caba['Precio (U$S) final'], bins=20, alpha=0.3, color='#3498DB', histtype='barstacked')\n",
    "plt.hist(gba_norte['Precio (U$S) final'], bins=20, alpha=0.3, color='#1ABC9C', histtype='barstacked')\n",
    "plt.hist(gba_oeste['Precio (U$S) final'], bins=20, alpha=0.3, color='#E74C3C', histtype='barstacked')\n",
    "plt.hist(gba_sur['Precio (U$S) final'], bins=20, alpha=0.3, color='#F1C40F', histtype='barstacked')\n",
    "\n",
    "plt.xlabel('Precio en U$S', size= 14)\n",
    "plt.ylabel('Cantidad de observaciones', size= 14)\n",
    "plt.title('Distribución de precios', fontdict={'fontsize': 14}, loc='center')\n",
    "\n",
    "plt.tight_layout()\n",
    "plt.show()"
   ]
  },
  {
   "cell_type": "code",
   "execution_count": 73,
   "metadata": {
    "scrolled": true
   },
   "outputs": [
    {
     "name": "stdout",
     "output_type": "stream",
     "text": [
      "2986\n",
      "3491\n",
      "266\n",
      "620\n",
      "26457\n",
      "22530\n",
      "7039\n",
      "11461\n"
     ]
    }
   ],
   "source": [
    "# Hacemos el corte en U$S500.000 que elimina alrededor del 10% de las observaciones y nos permite visualizar claramente\n",
    "# la distribución.\n",
    "\n",
    "dataframes = [caba, gba_norte, gba_oeste, gba_sur]\n",
    "\n",
    "for df in dataframes:\n",
    "    print(df[df['Precio (U$S) final'] >= 500000].shape[0])\n",
    "    \n",
    "for df in dataframes:\n",
    "    print(df['Precio (U$S) final'].shape[0])"
   ]
  },
  {
   "cell_type": "code",
   "execution_count": 74,
   "metadata": {},
   "outputs": [],
   "source": [
    "# Filtramos por precio y ponemos límites de U$S25.000 a U$S500.000.\n",
    "\n",
    "serie_precio_usd_caba = caba['Precio (U$S) final']\n",
    "caba_sin_outliers = (serie_precio_usd_caba < 500000) & (serie_precio_usd_caba > 25000)\n",
    "caba_filtrada = caba.loc[caba_sin_outliers, :]\n",
    "\n",
    "serie_precio_usd_norte = gba_norte['Precio (U$S) final']\n",
    "norte_sin_outliers = (serie_precio_usd_norte < 500000) & (serie_precio_usd_norte > 25000)\n",
    "gba_norte_filtrada = gba_norte.loc[norte_sin_outliers, :]\n",
    "\n",
    "serie_precio_usd_oeste = gba_oeste['Precio (U$S) final']\n",
    "oeste_sin_outliers = (serie_precio_usd_oeste < 500000) & (serie_precio_usd_oeste > 25000)\n",
    "gba_oeste_filtrada = gba_oeste.loc[oeste_sin_outliers, :]\n",
    "\n",
    "serie_precio_usd_sur = gba_sur['Precio (U$S) final']\n",
    "sur_sin_outliers = (serie_precio_usd_sur < 500000) & (serie_precio_usd_sur > 25000)\n",
    "gba_sur_filtrada = gba_sur.loc[sur_sin_outliers, :]"
   ]
  },
  {
   "cell_type": "code",
   "execution_count": 75,
   "metadata": {},
   "outputs": [],
   "source": [
    "# Y filtramos por ambientes. Elegimos un tope de 10 ambientes que es lo máximo razonable para una propiedad en estas zonas.\n",
    "\n",
    "serie_ambientes_caba = caba_filtrada['Ambientes descripción']\n",
    "caba_sin_outliers2 = (serie_ambientes_caba < 10) & (serie_ambientes_caba > 0)\n",
    "caba_filtrada = caba_filtrada.loc[caba_sin_outliers2, :]\n",
    "\n",
    "serie_ambientes_norte = gba_norte_filtrada['Ambientes descripción']\n",
    "norte_sin_outliers2 = (serie_ambientes_norte < 10) & (serie_ambientes_norte > 0)\n",
    "gba_norte_filtrada = gba_norte_filtrada.loc[norte_sin_outliers2, :]\n",
    "\n",
    "serie_ambientes_oeste = gba_oeste_filtrada['Ambientes descripción']\n",
    "oeste_sin_outliers2 = (serie_ambientes_oeste < 10) & (serie_ambientes_oeste > 0)\n",
    "gba_oeste_filtrada = gba_oeste_filtrada.loc[oeste_sin_outliers2, :]\n",
    "\n",
    "serie_ambientes_sur = gba_sur_filtrada['Ambientes descripción']\n",
    "sur_sin_outliers2 = (serie_ambientes_sur < 10) & (serie_ambientes_sur > 0)\n",
    "gba_sur_filtrada = gba_sur_filtrada.loc[sur_sin_outliers2, :]"
   ]
  },
  {
   "cell_type": "code",
   "execution_count": 76,
   "metadata": {
    "scrolled": true
   },
   "outputs": [
    {
     "data": {
      "image/png": "[encoded data removed]",
      "text/plain": [
       "<Figure size 432x288 with 1 Axes>"
      ]
     },
     "metadata": {},
     "output_type": "display_data"
    }
   ],
   "source": [
    "# Histograma con la data filtrada.\n",
    "\n",
    "bins = np.linspace(10000, 500000, num=70, dtype=list)\n",
    "\n",
    "sns.set()\n",
    "plt.hist(caba_filtrada['Precio (U$S) final'], label='CABA', bins=bins, alpha=0.3, color='#3498DB', histtype='barstacked')\n",
    "plt.hist(gba_norte_filtrada['Precio (U$S) final'], label='GBA norte', bins=bins, alpha=0.3, color='#1ABC9C', histtype='barstacked')\n",
    "plt.hist(gba_oeste_filtrada['Precio (U$S) final'], label='GBA oeste', bins=bins, alpha=0.3, color='#E74C3C', histtype='barstacked')\n",
    "plt.hist(gba_sur_filtrada['Precio (U$S) final'], label='GBA sur', bins=bins, alpha=0.3, color='#F1C40F', histtype='barstacked')\n",
    "\n",
    "plt.xlabel('Precio en U$S', size= 14)\n",
    "plt.ylabel('Cantidad de observaciones', size= 14)\n",
    "plt.title('Distribución de precios', fontdict={'fontsize': 14}, loc='center')\n",
    "plt.legend()\n",
    "\n",
    "plt.tight_layout()\n",
    "plt.show()"
   ]
  },
  {
   "cell_type": "code",
   "execution_count": 77,
   "metadata": {
    "scrolled": true
   },
   "outputs": [
    {
     "data": {
      "image/png": "[encoded data removed]",
      "text/plain": [
       "<Figure size 720x576 with 1 Axes>"
      ]
     },
     "metadata": {},
     "output_type": "display_data"
    }
   ],
   "source": [
    "# Boxplot con la data filtrada.\n",
    "\n",
    "medianprops = dict(linestyle='--', linewidth=1.5, color='#17202A')\n",
    "\n",
    "fig, ax = plt.subplots()\n",
    "\n",
    "bplot= ax.boxplot([caba_filtrada['Precio (U$S) final'], gba_norte_filtrada['Precio (U$S) final'], gba_oeste_filtrada['Precio (U$S) final'], gba_sur_filtrada['Precio (U$S) final']], vert=True, patch_artist=True, labels=['C.A.B.A.', 'G.B.A. Norte', 'G.B.A. Oeste', 'G.B.A. Sur'], medianprops=medianprops)\n",
    "\n",
    "colors = ['#E74C3C', '#9B59B6', '#3498DB', '#F39C12']\n",
    "\n",
    "for patch, color in zip(bplot['boxes'], colors):\n",
    "        patch.set_facecolor(color)\n",
    "    \n",
    "plt.xlabel('Zona AMBA', size= 12)\n",
    "plt.ylabel('Precio en U$S', size= 12)\n",
    "plt.title('Distribución de precios por zona', fontdict={'fontsize': 16}, loc='center')\n",
    "\n",
    "fig.set_size_inches(10, 8)\n",
    "\n",
    "plt.show()"
   ]
  },
  {
   "cell_type": "markdown",
   "metadata": {},
   "source": [
    "### Análisis por tipo de propiedad"
   ]
  },
  {
   "cell_type": "code",
   "execution_count": 78,
   "metadata": {
    "scrolled": true
   },
   "outputs": [
    {
     "data": {
      "text/html": [
       "<div>\n",
       "<style scoped>\n",
       "    .dataframe tbody tr th:only-of-type {\n",
       "        vertical-align: middle;\n",
       "    }\n",
       "\n",
       "    .dataframe tbody tr th {\n",
       "        vertical-align: top;\n",
       "    }\n",
       "\n",
       "    .dataframe thead th {\n",
       "        text-align: right;\n",
       "    }\n",
       "</style>\n",
       "<table border=\"1\" class=\"dataframe\">\n",
       "  <thead>\n",
       "    <tr style=\"text-align: right;\">\n",
       "      <th></th>\n",
       "      <th>Tipo de propiedad</th>\n",
       "      <th>Provincia</th>\n",
       "      <th>Precio</th>\n",
       "      <th>Moneda</th>\n",
       "      <th>Precio aproximado ($)</th>\n",
       "      <th>Precio aproximado (U$S)</th>\n",
       "      <th>Superficie total en m2</th>\n",
       "      <th>Superficie cubierta en m2</th>\n",
       "      <th>Precio U$S por m2</th>\n",
       "      <th>Precio por m2</th>\n",
       "      <th>...</th>\n",
       "      <th>Título</th>\n",
       "      <th>Localidad</th>\n",
       "      <th>Descripción limpia</th>\n",
       "      <th>Dormitorios descripción</th>\n",
       "      <th>cochera</th>\n",
       "      <th>amenities</th>\n",
       "      <th>estrenar</th>\n",
       "      <th>Ambientes descripción</th>\n",
       "      <th>Precio (U$S) descripción</th>\n",
       "      <th>Precio (U$S) final</th>\n",
       "    </tr>\n",
       "  </thead>\n",
       "  <tbody>\n",
       "    <tr>\n",
       "      <th>0</th>\n",
       "      <td>PH</td>\n",
       "      <td>Capital Federal</td>\n",
       "      <td>62000.0</td>\n",
       "      <td>USD</td>\n",
       "      <td>1093959.00</td>\n",
       "      <td>62000.0</td>\n",
       "      <td>55.0</td>\n",
       "      <td>40.0</td>\n",
       "      <td>1127.272727</td>\n",
       "      <td>1550.000000</td>\n",
       "      <td>...</td>\n",
       "      <td>2 AMB TIPO CASA SIN EXPENSAS EN PB</td>\n",
       "      <td>Mataderos</td>\n",
       "      <td>2 ambientes tipo casa planta baja por pasillo,...</td>\n",
       "      <td>1</td>\n",
       "      <td>NaN</td>\n",
       "      <td>NaN</td>\n",
       "      <td>NaN</td>\n",
       "      <td>2</td>\n",
       "      <td>NaN</td>\n",
       "      <td>62000.0</td>\n",
       "    </tr>\n",
       "    <tr>\n",
       "      <th>2</th>\n",
       "      <td>Departamento</td>\n",
       "      <td>Capital Federal</td>\n",
       "      <td>72000.0</td>\n",
       "      <td>USD</td>\n",
       "      <td>1270404.00</td>\n",
       "      <td>72000.0</td>\n",
       "      <td>55.0</td>\n",
       "      <td>55.0</td>\n",
       "      <td>1309.090909</td>\n",
       "      <td>1309.090909</td>\n",
       "      <td>...</td>\n",
       "      <td>2 AMB 3ER PISO CON ASCENSOR APTO CREDITO</td>\n",
       "      <td>Mataderos</td>\n",
       "      <td>2 ambientes 3er piso lateral living comedor am...</td>\n",
       "      <td>1</td>\n",
       "      <td>NaN</td>\n",
       "      <td>NaN</td>\n",
       "      <td>NaN</td>\n",
       "      <td>2</td>\n",
       "      <td>NaN</td>\n",
       "      <td>72000.0</td>\n",
       "    </tr>\n",
       "    <tr>\n",
       "      <th>3</th>\n",
       "      <td>PH</td>\n",
       "      <td>Capital Federal</td>\n",
       "      <td>95000.0</td>\n",
       "      <td>USD</td>\n",
       "      <td>1676227.50</td>\n",
       "      <td>95000.0</td>\n",
       "      <td>NaN</td>\n",
       "      <td>NaN</td>\n",
       "      <td>NaN</td>\n",
       "      <td>NaN</td>\n",
       "      <td>...</td>\n",
       "      <td>PH 3 amb. cfte. reciclado</td>\n",
       "      <td>Liniers</td>\n",
       "      <td>ph 3 ambientes con patio. hay 3 deptos en lote...</td>\n",
       "      <td>NaN</td>\n",
       "      <td>NaN</td>\n",
       "      <td>NaN</td>\n",
       "      <td>NaN</td>\n",
       "      <td>3</td>\n",
       "      <td>NaN</td>\n",
       "      <td>95000.0</td>\n",
       "    </tr>\n",
       "    <tr>\n",
       "      <th>8</th>\n",
       "      <td>Departamento</td>\n",
       "      <td>Capital Federal</td>\n",
       "      <td>195000.0</td>\n",
       "      <td>USD</td>\n",
       "      <td>3440677.50</td>\n",
       "      <td>195000.0</td>\n",
       "      <td>65.0</td>\n",
       "      <td>60.0</td>\n",
       "      <td>3000.000000</td>\n",
       "      <td>3250.000000</td>\n",
       "      <td>...</td>\n",
       "      <td>JOSE HERNANDEZ   1400 DOS AMBIENTES ESTRENAR ,...</td>\n",
       "      <td>Belgrano</td>\n",
       "      <td>excelente 2 ambientes  estrenar amplio super l...</td>\n",
       "      <td>NaN</td>\n",
       "      <td>NaN</td>\n",
       "      <td>amenities</td>\n",
       "      <td>NaN</td>\n",
       "      <td>2</td>\n",
       "      <td>NaN</td>\n",
       "      <td>195000.0</td>\n",
       "    </tr>\n",
       "    <tr>\n",
       "      <th>13</th>\n",
       "      <td>Departamento</td>\n",
       "      <td>Capital Federal</td>\n",
       "      <td>111700.0</td>\n",
       "      <td>USD</td>\n",
       "      <td>1970890.65</td>\n",
       "      <td>111700.0</td>\n",
       "      <td>50.0</td>\n",
       "      <td>30.0</td>\n",
       "      <td>2234.000000</td>\n",
       "      <td>3723.333333</td>\n",
       "      <td>...</td>\n",
       "      <td>Vitraux Palermo</td>\n",
       "      <td>Palermo Soho</td>\n",
       "      <td>torre i mondrian. 3 ambientes con terraza y 2...</td>\n",
       "      <td>NaN</td>\n",
       "      <td>NaN</td>\n",
       "      <td>amenities</td>\n",
       "      <td>NaN</td>\n",
       "      <td>3</td>\n",
       "      <td>NaN</td>\n",
       "      <td>111700.0</td>\n",
       "    </tr>\n",
       "    <tr>\n",
       "      <th>...</th>\n",
       "      <td>...</td>\n",
       "      <td>...</td>\n",
       "      <td>...</td>\n",
       "      <td>...</td>\n",
       "      <td>...</td>\n",
       "      <td>...</td>\n",
       "      <td>...</td>\n",
       "      <td>...</td>\n",
       "      <td>...</td>\n",
       "      <td>...</td>\n",
       "      <td>...</td>\n",
       "      <td>...</td>\n",
       "      <td>...</td>\n",
       "      <td>...</td>\n",
       "      <td>...</td>\n",
       "      <td>...</td>\n",
       "      <td>...</td>\n",
       "      <td>...</td>\n",
       "      <td>...</td>\n",
       "      <td>...</td>\n",
       "      <td>...</td>\n",
       "    </tr>\n",
       "    <tr>\n",
       "      <th>120272</th>\n",
       "      <td>Departamento</td>\n",
       "      <td>Bs.As. G.B.A. Zona Sur</td>\n",
       "      <td>154000.0</td>\n",
       "      <td>USD</td>\n",
       "      <td>2717253.00</td>\n",
       "      <td>154000.0</td>\n",
       "      <td>NaN</td>\n",
       "      <td>60.0</td>\n",
       "      <td>NaN</td>\n",
       "      <td>2566.666667</td>\n",
       "      <td>...</td>\n",
       "      <td>Departamento - Lomas de Zamora Oeste</td>\n",
       "      <td>Lomas de Zamora</td>\n",
       "      <td>con una ubicación privilegiada, a pocas cuadra...</td>\n",
       "      <td>1</td>\n",
       "      <td>cochera</td>\n",
       "      <td>NaN</td>\n",
       "      <td>NaN</td>\n",
       "      <td>4</td>\n",
       "      <td>NaN</td>\n",
       "      <td>154000.0</td>\n",
       "    </tr>\n",
       "    <tr>\n",
       "      <th>120274</th>\n",
       "      <td>Departamento</td>\n",
       "      <td>Bs.As. G.B.A. Zona Sur</td>\n",
       "      <td>130000.0</td>\n",
       "      <td>USD</td>\n",
       "      <td>2293785.00</td>\n",
       "      <td>130000.0</td>\n",
       "      <td>NaN</td>\n",
       "      <td>50.0</td>\n",
       "      <td>NaN</td>\n",
       "      <td>2600.000000</td>\n",
       "      <td>...</td>\n",
       "      <td>Departamento - Lomas de Zamora Oeste</td>\n",
       "      <td>Lomas de Zamora</td>\n",
       "      <td>con una ubicación privilegiada, a pocas cuadra...</td>\n",
       "      <td>1</td>\n",
       "      <td>cochera</td>\n",
       "      <td>NaN</td>\n",
       "      <td>NaN</td>\n",
       "      <td>4</td>\n",
       "      <td>NaN</td>\n",
       "      <td>130000.0</td>\n",
       "    </tr>\n",
       "    <tr>\n",
       "      <th>120275</th>\n",
       "      <td>Departamento</td>\n",
       "      <td>Bs.As. G.B.A. Zona Sur</td>\n",
       "      <td>155000.0</td>\n",
       "      <td>USD</td>\n",
       "      <td>2734897.50</td>\n",
       "      <td>155000.0</td>\n",
       "      <td>NaN</td>\n",
       "      <td>60.0</td>\n",
       "      <td>NaN</td>\n",
       "      <td>2583.333333</td>\n",
       "      <td>...</td>\n",
       "      <td>Departamento - Lomas de Zamora Oeste</td>\n",
       "      <td>Lomas de Zamora</td>\n",
       "      <td>con una ubicación privilegiada, a pocas cuadra...</td>\n",
       "      <td>1</td>\n",
       "      <td>cochera</td>\n",
       "      <td>NaN</td>\n",
       "      <td>NaN</td>\n",
       "      <td>4</td>\n",
       "      <td>NaN</td>\n",
       "      <td>155000.0</td>\n",
       "    </tr>\n",
       "    <tr>\n",
       "      <th>120277</th>\n",
       "      <td>Departamento</td>\n",
       "      <td>Bs.As. G.B.A. Zona Sur</td>\n",
       "      <td>131000.0</td>\n",
       "      <td>USD</td>\n",
       "      <td>2311429.50</td>\n",
       "      <td>131000.0</td>\n",
       "      <td>NaN</td>\n",
       "      <td>50.0</td>\n",
       "      <td>NaN</td>\n",
       "      <td>2620.000000</td>\n",
       "      <td>...</td>\n",
       "      <td>Departamento - Lomas de Zamora Oeste</td>\n",
       "      <td>Lomas de Zamora</td>\n",
       "      <td>con una ubicación privilegiada, a pocas cuadra...</td>\n",
       "      <td>1</td>\n",
       "      <td>cochera</td>\n",
       "      <td>NaN</td>\n",
       "      <td>NaN</td>\n",
       "      <td>4</td>\n",
       "      <td>NaN</td>\n",
       "      <td>131000.0</td>\n",
       "    </tr>\n",
       "    <tr>\n",
       "      <th>120278</th>\n",
       "      <td>Departamento</td>\n",
       "      <td>Bs.As. G.B.A. Zona Sur</td>\n",
       "      <td>156000.0</td>\n",
       "      <td>USD</td>\n",
       "      <td>2752542.00</td>\n",
       "      <td>156000.0</td>\n",
       "      <td>NaN</td>\n",
       "      <td>60.0</td>\n",
       "      <td>NaN</td>\n",
       "      <td>2600.000000</td>\n",
       "      <td>...</td>\n",
       "      <td>Departamento - Lomas de Zamora Oeste</td>\n",
       "      <td>Lomas de Zamora</td>\n",
       "      <td>con una ubicación privilegiada, a pocas cuadra...</td>\n",
       "      <td>1</td>\n",
       "      <td>cochera</td>\n",
       "      <td>NaN</td>\n",
       "      <td>NaN</td>\n",
       "      <td>4</td>\n",
       "      <td>NaN</td>\n",
       "      <td>156000.0</td>\n",
       "    </tr>\n",
       "  </tbody>\n",
       "</table>\n",
       "<p>29903 rows × 24 columns</p>\n",
       "</div>"
      ],
      "text/plain": [
       "       Tipo de propiedad               Provincia    Precio Moneda  \\\n",
       "0                     PH         Capital Federal   62000.0    USD   \n",
       "2           Departamento         Capital Federal   72000.0    USD   \n",
       "3                     PH         Capital Federal   95000.0    USD   \n",
       "8           Departamento         Capital Federal  195000.0    USD   \n",
       "13          Departamento         Capital Federal  111700.0    USD   \n",
       "...                  ...                     ...       ...    ...   \n",
       "120272      Departamento  Bs.As. G.B.A. Zona Sur  154000.0    USD   \n",
       "120274      Departamento  Bs.As. G.B.A. Zona Sur  130000.0    USD   \n",
       "120275      Departamento  Bs.As. G.B.A. Zona Sur  155000.0    USD   \n",
       "120277      Departamento  Bs.As. G.B.A. Zona Sur  131000.0    USD   \n",
       "120278      Departamento  Bs.As. G.B.A. Zona Sur  156000.0    USD   \n",
       "\n",
       "        Precio aproximado ($)  Precio aproximado (U$S)  \\\n",
       "0                  1093959.00                  62000.0   \n",
       "2                  1270404.00                  72000.0   \n",
       "3                  1676227.50                  95000.0   \n",
       "8                  3440677.50                 195000.0   \n",
       "13                 1970890.65                 111700.0   \n",
       "...                       ...                      ...   \n",
       "120272             2717253.00                 154000.0   \n",
       "120274             2293785.00                 130000.0   \n",
       "120275             2734897.50                 155000.0   \n",
       "120277             2311429.50                 131000.0   \n",
       "120278             2752542.00                 156000.0   \n",
       "\n",
       "        Superficie total en m2  Superficie cubierta en m2  Precio U$S por m2  \\\n",
       "0                         55.0                       40.0        1127.272727   \n",
       "2                         55.0                       55.0        1309.090909   \n",
       "3                          NaN                        NaN                NaN   \n",
       "8                         65.0                       60.0        3000.000000   \n",
       "13                        50.0                       30.0        2234.000000   \n",
       "...                        ...                        ...                ...   \n",
       "120272                     NaN                       60.0                NaN   \n",
       "120274                     NaN                       50.0                NaN   \n",
       "120275                     NaN                       60.0                NaN   \n",
       "120277                     NaN                       50.0                NaN   \n",
       "120278                     NaN                       60.0                NaN   \n",
       "\n",
       "        Precio por m2  ...                                             Título  \\\n",
       "0         1550.000000  ...                 2 AMB TIPO CASA SIN EXPENSAS EN PB   \n",
       "2         1309.090909  ...           2 AMB 3ER PISO CON ASCENSOR APTO CREDITO   \n",
       "3                 NaN  ...                       PH 3 amb. cfte. reciclado      \n",
       "8         3250.000000  ...  JOSE HERNANDEZ   1400 DOS AMBIENTES ESTRENAR ,...   \n",
       "13        3723.333333  ...                                    Vitraux Palermo   \n",
       "...               ...  ...                                                ...   \n",
       "120272    2566.666667  ...               Departamento - Lomas de Zamora Oeste   \n",
       "120274    2600.000000  ...               Departamento - Lomas de Zamora Oeste   \n",
       "120275    2583.333333  ...               Departamento - Lomas de Zamora Oeste   \n",
       "120277    2620.000000  ...               Departamento - Lomas de Zamora Oeste   \n",
       "120278    2600.000000  ...               Departamento - Lomas de Zamora Oeste   \n",
       "\n",
       "              Localidad                                 Descripción limpia  \\\n",
       "0             Mataderos  2 ambientes tipo casa planta baja por pasillo,...   \n",
       "2             Mataderos  2 ambientes 3er piso lateral living comedor am...   \n",
       "3               Liniers  ph 3 ambientes con patio. hay 3 deptos en lote...   \n",
       "8              Belgrano  excelente 2 ambientes  estrenar amplio super l...   \n",
       "13         Palermo Soho   torre i mondrian. 3 ambientes con terraza y 2...   \n",
       "...                 ...                                                ...   \n",
       "120272  Lomas de Zamora  con una ubicación privilegiada, a pocas cuadra...   \n",
       "120274  Lomas de Zamora  con una ubicación privilegiada, a pocas cuadra...   \n",
       "120275  Lomas de Zamora  con una ubicación privilegiada, a pocas cuadra...   \n",
       "120277  Lomas de Zamora  con una ubicación privilegiada, a pocas cuadra...   \n",
       "120278  Lomas de Zamora  con una ubicación privilegiada, a pocas cuadra...   \n",
       "\n",
       "       Dormitorios descripción  cochera  amenities estrenar  \\\n",
       "0                            1      NaN        NaN      NaN   \n",
       "2                            1      NaN        NaN      NaN   \n",
       "3                          NaN      NaN        NaN      NaN   \n",
       "8                          NaN      NaN  amenities      NaN   \n",
       "13                         NaN      NaN  amenities      NaN   \n",
       "...                        ...      ...        ...      ...   \n",
       "120272                       1  cochera        NaN      NaN   \n",
       "120274                       1  cochera        NaN      NaN   \n",
       "120275                       1  cochera        NaN      NaN   \n",
       "120277                       1  cochera        NaN      NaN   \n",
       "120278                       1  cochera        NaN      NaN   \n",
       "\n",
       "       Ambientes descripción Precio (U$S) descripción Precio (U$S) final  \n",
       "0                          2                      NaN            62000.0  \n",
       "2                          2                      NaN            72000.0  \n",
       "3                          3                      NaN            95000.0  \n",
       "8                          2                      NaN           195000.0  \n",
       "13                         3                      NaN           111700.0  \n",
       "...                      ...                      ...                ...  \n",
       "120272                     4                      NaN           154000.0  \n",
       "120274                     4                      NaN           130000.0  \n",
       "120275                     4                      NaN           155000.0  \n",
       "120277                     4                      NaN           131000.0  \n",
       "120278                     4                      NaN           156000.0  \n",
       "\n",
       "[29903 rows x 24 columns]"
      ]
     },
     "execution_count": 78,
     "metadata": {},
     "output_type": "execute_result"
    }
   ],
   "source": [
    "#Creamos el DataFrame AMBA con todos los filtrados.\n",
    "\n",
    "amba = pd.concat([caba_filtrada, gba_norte_filtrada, gba_oeste_filtrada, gba_sur_filtrada])\n",
    "amba"
   ]
  },
  {
   "cell_type": "code",
   "execution_count": 79,
   "metadata": {},
   "outputs": [],
   "source": [
    "# Creamos DataFrames para cada tipo de propiedad con el fin de analizarlas.\n",
    "\n",
    "ph_mask = amba['Tipo de propiedad'] == 'PH'\n",
    "ph = amba.loc[ph_mask, :]\n",
    "\n",
    "depto_mask = amba['Tipo de propiedad'] == 'Departamento'\n",
    "depto = amba.loc[depto_mask, :]\n",
    "\n",
    "casa_mask = amba['Tipo de propiedad'] == 'Casa'\n",
    "casa = amba.loc[casa_mask, :]\n",
    "\n",
    "local_mask = amba['Tipo de propiedad'] == 'Local'\n",
    "local = amba.loc[local_mask, :]"
   ]
  },
  {
   "cell_type": "code",
   "execution_count": 80,
   "metadata": {},
   "outputs": [
    {
     "data": {
      "image/png": "[encoded data removed]",
      "text/plain": [
       "<Figure size 720x576 with 1 Axes>"
      ]
     },
     "metadata": {},
     "output_type": "display_data"
    }
   ],
   "source": [
    "# Boxplot con la data filtrada.\n",
    "\n",
    "medianprops = dict(linestyle='--', linewidth=1.5, color='#17202A')\n",
    "\n",
    "fig, ax = plt.subplots()\n",
    "\n",
    "bplot= ax.boxplot([ph['Precio (U$S) final'], depto['Precio (U$S) final'], casa['Precio (U$S) final'], local['Precio (U$S) final']], vert=True, patch_artist=True, labels=['P.H.', 'Departamento', 'Casa', 'Local'], medianprops=medianprops)\n",
    "\n",
    "colors = ['#E74C3C', '#9B59B6', '#3498DB', '#F39C12']\n",
    "\n",
    "for patch, color in zip(bplot['boxes'], colors):\n",
    "        patch.set_facecolor(color)\n",
    "    \n",
    "plt.xlabel('Tipo de propiedad', size= 12)\n",
    "plt.ylabel('Precio en U$S', size= 12)\n",
    "plt.title('Distribución de precios por tipo de propiedad', fontdict={'fontsize': 16}, loc='center')\n",
    "\n",
    "fig.set_size_inches(10, 8)\n",
    "\n",
    "plt.show()"
   ]
  },
  {
   "cell_type": "code",
   "execution_count": 81,
   "metadata": {
    "scrolled": true
   },
   "outputs": [
    {
     "data": {
      "text/plain": [
       "<seaborn.axisgrid.PairGrid at 0x17a6a639bb0>"
      ]
     },
     "execution_count": 81,
     "metadata": {},
     "output_type": "execute_result"
    },
    {
     "data": {
      "image/png": "[encoded data removed]",
      "text/plain": [
       "<Figure size 540x540 with 12 Axes>"
      ]
     },
     "metadata": {},
     "output_type": "display_data"
    }
   ],
   "source": [
    "# Vemos la relación entre variables por tipo de propiedad.\n",
    "\n",
    "sns.pairplot(ph, vars=['Precio (U$S) final', 'Superficie total en m2', 'Ambientes descripción'])"
   ]
  },
  {
   "cell_type": "code",
   "execution_count": 82,
   "metadata": {},
   "outputs": [
    {
     "data": {
      "text/plain": [
       "<seaborn.axisgrid.PairGrid at 0x17a5b445970>"
      ]
     },
     "execution_count": 82,
     "metadata": {},
     "output_type": "execute_result"
    },
    {
     "data": {
      "image/png": "[encoded data removed]",
      "text/plain": [
       "<Figure size 540x540 with 12 Axes>"
      ]
     },
     "metadata": {},
     "output_type": "display_data"
    }
   ],
   "source": [
    "sns.pairplot(casa, vars=['Precio (U$S) final', 'Superficie total en m2', 'Ambientes descripción']) "
   ]
  },
  {
   "cell_type": "code",
   "execution_count": 83,
   "metadata": {},
   "outputs": [
    {
     "data": {
      "text/plain": [
       "<seaborn.axisgrid.PairGrid at 0x17a6afaf4c0>"
      ]
     },
     "execution_count": 83,
     "metadata": {},
     "output_type": "execute_result"
    },
    {
     "data": {
      "image/png": "[encoded data removed]",
      "text/plain": [
       "<Figure size 540x540 with 12 Axes>"
      ]
     },
     "metadata": {},
     "output_type": "display_data"
    }
   ],
   "source": [
    "sns.pairplot(depto, vars=['Precio (U$S) final', 'Superficie total en m2', 'Ambientes descripción'])"
   ]
  },
  {
   "cell_type": "code",
   "execution_count": 84,
   "metadata": {},
   "outputs": [
    {
     "data": {
      "text/plain": [
       "<seaborn.axisgrid.PairGrid at 0x17a6a67ad30>"
      ]
     },
     "execution_count": 84,
     "metadata": {},
     "output_type": "execute_result"
    },
    {
     "data": {
      "image/png": "[encoded data removed]",
      "text/plain": [
       "<Figure size 540x540 with 12 Axes>"
      ]
     },
     "metadata": {},
     "output_type": "display_data"
    }
   ],
   "source": [
    "sns.pairplot(local, vars=['Precio (U$S) final', 'Superficie total en m2', 'Ambientes descripción'])"
   ]
  },
  {
   "cell_type": "markdown",
   "metadata": {},
   "source": [
    "# Summary statistics\n",
    "\n",
    "Ahora nos enfocamos en ver los distintos valores que resumen la información que tenemos en el subset que nos interesa trabajar y buscamos aprender todo lo posible sobre los datos limpios que ya tenemos."
   ]
  },
  {
   "cell_type": "code",
   "execution_count": 85,
   "metadata": {},
   "outputs": [
    {
     "data": {
      "text/html": [
       "<div>\n",
       "<style scoped>\n",
       "    .dataframe tbody tr th:only-of-type {\n",
       "        vertical-align: middle;\n",
       "    }\n",
       "\n",
       "    .dataframe tbody tr th {\n",
       "        vertical-align: top;\n",
       "    }\n",
       "\n",
       "    .dataframe thead tr th {\n",
       "        text-align: left;\n",
       "    }\n",
       "\n",
       "    .dataframe thead tr:last-of-type th {\n",
       "        text-align: right;\n",
       "    }\n",
       "</style>\n",
       "<table border=\"1\" class=\"dataframe\">\n",
       "  <thead>\n",
       "    <tr>\n",
       "      <th></th>\n",
       "      <th>min</th>\n",
       "      <th>max</th>\n",
       "      <th>mean</th>\n",
       "      <th>median</th>\n",
       "      <th>mode</th>\n",
       "    </tr>\n",
       "    <tr>\n",
       "      <th></th>\n",
       "      <th>Precio (U$S) final</th>\n",
       "      <th>Precio (U$S) final</th>\n",
       "      <th>Precio (U$S) final</th>\n",
       "      <th>Precio (U$S) final</th>\n",
       "      <th>Precio (U$S) final</th>\n",
       "    </tr>\n",
       "    <tr>\n",
       "      <th>Provincia</th>\n",
       "      <th></th>\n",
       "      <th></th>\n",
       "      <th></th>\n",
       "      <th></th>\n",
       "      <th></th>\n",
       "    </tr>\n",
       "  </thead>\n",
       "  <tbody>\n",
       "    <tr>\n",
       "      <th>Bs.As. G.B.A. Zona Norte</th>\n",
       "      <td>28000.0</td>\n",
       "      <td>499000.0</td>\n",
       "      <td>202915.330980</td>\n",
       "      <td>172000.0</td>\n",
       "      <td>([125000.0], [143])</td>\n",
       "    </tr>\n",
       "    <tr>\n",
       "      <th>Bs.As. G.B.A. Zona Oeste</th>\n",
       "      <td>28000.0</td>\n",
       "      <td>495000.0</td>\n",
       "      <td>133587.636266</td>\n",
       "      <td>105000.0</td>\n",
       "      <td>([75000.0], [132])</td>\n",
       "    </tr>\n",
       "    <tr>\n",
       "      <th>Bs.As. G.B.A. Zona Sur</th>\n",
       "      <td>26821.0</td>\n",
       "      <td>499000.0</td>\n",
       "      <td>154548.888978</td>\n",
       "      <td>120000.0</td>\n",
       "      <td>([120000.0], [119])</td>\n",
       "    </tr>\n",
       "    <tr>\n",
       "      <th>Capital Federal</th>\n",
       "      <td>25935.0</td>\n",
       "      <td>499999.0</td>\n",
       "      <td>173162.591061</td>\n",
       "      <td>145000.0</td>\n",
       "      <td>([120000.0], [212])</td>\n",
       "    </tr>\n",
       "  </tbody>\n",
       "</table>\n",
       "</div>"
      ],
      "text/plain": [
       "                                        min                max  \\\n",
       "                         Precio (U$S) final Precio (U$S) final   \n",
       "Provincia                                                        \n",
       "Bs.As. G.B.A. Zona Norte            28000.0           499000.0   \n",
       "Bs.As. G.B.A. Zona Oeste            28000.0           495000.0   \n",
       "Bs.As. G.B.A. Zona Sur              26821.0           499000.0   \n",
       "Capital Federal                     25935.0           499999.0   \n",
       "\n",
       "                                       mean             median  \\\n",
       "                         Precio (U$S) final Precio (U$S) final   \n",
       "Provincia                                                        \n",
       "Bs.As. G.B.A. Zona Norte      202915.330980           172000.0   \n",
       "Bs.As. G.B.A. Zona Oeste      133587.636266           105000.0   \n",
       "Bs.As. G.B.A. Zona Sur        154548.888978           120000.0   \n",
       "Capital Federal               173162.591061           145000.0   \n",
       "\n",
       "                                         mode  \n",
       "                           Precio (U$S) final  \n",
       "Provincia                                      \n",
       "Bs.As. G.B.A. Zona Norte  ([125000.0], [143])  \n",
       "Bs.As. G.B.A. Zona Oeste   ([75000.0], [132])  \n",
       "Bs.As. G.B.A. Zona Sur    ([120000.0], [119])  \n",
       "Capital Federal           ([120000.0], [212])  "
      ]
     },
     "execution_count": 85,
     "metadata": {},
     "output_type": "execute_result"
    }
   ],
   "source": [
    "from scipy import stats\n",
    "\n",
    "pd.pivot_table(data=amba, values='Precio (U$S) final', index='Provincia', aggfunc=[min, max, np.mean, np.median, stats.mode])"
   ]
  },
  {
   "cell_type": "code",
   "execution_count": 86,
   "metadata": {
    "scrolled": true
   },
   "outputs": [
    {
     "data": {
      "text/html": [
       "<div>\n",
       "<style scoped>\n",
       "    .dataframe tbody tr th:only-of-type {\n",
       "        vertical-align: middle;\n",
       "    }\n",
       "\n",
       "    .dataframe tbody tr th {\n",
       "        vertical-align: top;\n",
       "    }\n",
       "\n",
       "    .dataframe thead tr th {\n",
       "        text-align: left;\n",
       "    }\n",
       "\n",
       "    .dataframe thead tr:last-of-type th {\n",
       "        text-align: right;\n",
       "    }\n",
       "</style>\n",
       "<table border=\"1\" class=\"dataframe\">\n",
       "  <thead>\n",
       "    <tr>\n",
       "      <th></th>\n",
       "      <th>min</th>\n",
       "      <th>max</th>\n",
       "      <th>mean</th>\n",
       "      <th>median</th>\n",
       "      <th>mode</th>\n",
       "    </tr>\n",
       "    <tr>\n",
       "      <th></th>\n",
       "      <th>Precio (U$S) final</th>\n",
       "      <th>Precio (U$S) final</th>\n",
       "      <th>Precio (U$S) final</th>\n",
       "      <th>Precio (U$S) final</th>\n",
       "      <th>Precio (U$S) final</th>\n",
       "    </tr>\n",
       "    <tr>\n",
       "      <th>Tipo de propiedad</th>\n",
       "      <th></th>\n",
       "      <th></th>\n",
       "      <th></th>\n",
       "      <th></th>\n",
       "      <th></th>\n",
       "    </tr>\n",
       "  </thead>\n",
       "  <tbody>\n",
       "    <tr>\n",
       "      <th>Casa</th>\n",
       "      <td>30000.0</td>\n",
       "      <td>499000.0</td>\n",
       "      <td>241421.415226</td>\n",
       "      <td>227000.0</td>\n",
       "      <td>([250000.0], [156])</td>\n",
       "    </tr>\n",
       "    <tr>\n",
       "      <th>Departamento</th>\n",
       "      <td>25935.0</td>\n",
       "      <td>499999.0</td>\n",
       "      <td>157958.157373</td>\n",
       "      <td>131592.5</td>\n",
       "      <td>([85000.0], [379])</td>\n",
       "    </tr>\n",
       "    <tr>\n",
       "      <th>Local</th>\n",
       "      <td>35000.0</td>\n",
       "      <td>490000.0</td>\n",
       "      <td>228206.721893</td>\n",
       "      <td>198000.0</td>\n",
       "      <td>([130000.0], [6])</td>\n",
       "    </tr>\n",
       "    <tr>\n",
       "      <th>PH</th>\n",
       "      <td>30000.0</td>\n",
       "      <td>470000.0</td>\n",
       "      <td>145601.403679</td>\n",
       "      <td>128000.0</td>\n",
       "      <td>([110000.0], [69])</td>\n",
       "    </tr>\n",
       "  </tbody>\n",
       "</table>\n",
       "</div>"
      ],
      "text/plain": [
       "                                 min                max               mean  \\\n",
       "                  Precio (U$S) final Precio (U$S) final Precio (U$S) final   \n",
       "Tipo de propiedad                                                            \n",
       "Casa                         30000.0           499000.0      241421.415226   \n",
       "Departamento                 25935.0           499999.0      157958.157373   \n",
       "Local                        35000.0           490000.0      228206.721893   \n",
       "PH                           30000.0           470000.0      145601.403679   \n",
       "\n",
       "                              median                 mode  \n",
       "                  Precio (U$S) final   Precio (U$S) final  \n",
       "Tipo de propiedad                                          \n",
       "Casa                        227000.0  ([250000.0], [156])  \n",
       "Departamento                131592.5   ([85000.0], [379])  \n",
       "Local                       198000.0    ([130000.0], [6])  \n",
       "PH                          128000.0   ([110000.0], [69])  "
      ]
     },
     "execution_count": 86,
     "metadata": {},
     "output_type": "execute_result"
    }
   ],
   "source": [
    "pd.pivot_table(data=amba, values='Precio (U$S) final', index='Tipo de propiedad', aggfunc=[min, max, np.mean, np.median, stats.mode])"
   ]
  },
  {
   "cell_type": "code",
   "execution_count": 87,
   "metadata": {},
   "outputs": [
    {
     "data": {
      "text/plain": [
       "dtype('float64')"
      ]
     },
     "execution_count": 87,
     "metadata": {},
     "output_type": "execute_result"
    }
   ],
   "source": [
    "data['Ambientes descripción'] = data['Ambientes descripción'].apply(pd.to_numeric)\n",
    "data['Ambientes descripción'].dtypes"
   ]
  },
  {
   "cell_type": "code",
   "execution_count": 88,
   "metadata": {},
   "outputs": [
    {
     "data": {
      "text/plain": [
       "Tipo de propiedad\n",
       "Casa            2.849440\n",
       "Departamento    2.358245\n",
       "Local           2.284024\n",
       "PH              2.810261\n",
       "Name: Ambientes descripción, dtype: float64"
      ]
     },
     "execution_count": 88,
     "metadata": {},
     "output_type": "execute_result"
    }
   ],
   "source": [
    "# Vemos la cantidad de ambientes promedio por propiedad\n",
    "\n",
    "ambientes = pd.to_numeric(amba['Ambientes descripción']).groupby(amba['Tipo de propiedad'])\n",
    "ambientes.mean()"
   ]
  },
  {
   "cell_type": "code",
   "execution_count": 89,
   "metadata": {
    "scrolled": true
   },
   "outputs": [],
   "source": [
    "# Separamos por propiedades a estrenar y usadas\n",
    "\n",
    "a_estrenar_mask = amba['estrenar'] == 'A estrenar'\n",
    "a_estrenar = amba.loc[a_estrenar_mask, :]\n",
    "\n",
    "no_a_estrenar_mask = amba['estrenar'] != 'A estrenar'\n",
    "no_a_estrenar = amba.loc[no_a_estrenar_mask, :]"
   ]
  },
  {
   "cell_type": "code",
   "execution_count": 90,
   "metadata": {
    "scrolled": true
   },
   "outputs": [
    {
     "data": {
      "text/html": [
       "<div>\n",
       "<style scoped>\n",
       "    .dataframe tbody tr th:only-of-type {\n",
       "        vertical-align: middle;\n",
       "    }\n",
       "\n",
       "    .dataframe tbody tr th {\n",
       "        vertical-align: top;\n",
       "    }\n",
       "\n",
       "    .dataframe thead tr th {\n",
       "        text-align: left;\n",
       "    }\n",
       "\n",
       "    .dataframe thead tr:last-of-type th {\n",
       "        text-align: right;\n",
       "    }\n",
       "</style>\n",
       "<table border=\"1\" class=\"dataframe\">\n",
       "  <thead>\n",
       "    <tr>\n",
       "      <th></th>\n",
       "      <th>min</th>\n",
       "      <th>max</th>\n",
       "      <th>mean</th>\n",
       "      <th>median</th>\n",
       "      <th>mode</th>\n",
       "    </tr>\n",
       "    <tr>\n",
       "      <th></th>\n",
       "      <th>Precio (U$S) final</th>\n",
       "      <th>Precio (U$S) final</th>\n",
       "      <th>Precio (U$S) final</th>\n",
       "      <th>Precio (U$S) final</th>\n",
       "      <th>Precio (U$S) final</th>\n",
       "    </tr>\n",
       "    <tr>\n",
       "      <th>Provincia</th>\n",
       "      <th></th>\n",
       "      <th></th>\n",
       "      <th></th>\n",
       "      <th></th>\n",
       "      <th></th>\n",
       "    </tr>\n",
       "  </thead>\n",
       "  <tbody>\n",
       "    <tr>\n",
       "      <th>Bs.As. G.B.A. Zona Norte</th>\n",
       "      <td>35900.0</td>\n",
       "      <td>495000.0</td>\n",
       "      <td>185959.388730</td>\n",
       "      <td>155250.0</td>\n",
       "      <td>([125000.0], [24])</td>\n",
       "    </tr>\n",
       "    <tr>\n",
       "      <th>Bs.As. G.B.A. Zona Oeste</th>\n",
       "      <td>36554.0</td>\n",
       "      <td>390000.0</td>\n",
       "      <td>95842.573394</td>\n",
       "      <td>80000.0</td>\n",
       "      <td>([75000.0], [31])</td>\n",
       "    </tr>\n",
       "    <tr>\n",
       "      <th>Bs.As. G.B.A. Zona Sur</th>\n",
       "      <td>26821.0</td>\n",
       "      <td>490000.0</td>\n",
       "      <td>122571.229333</td>\n",
       "      <td>100000.0</td>\n",
       "      <td>([85000.0], [23])</td>\n",
       "    </tr>\n",
       "    <tr>\n",
       "      <th>Capital Federal</th>\n",
       "      <td>33800.0</td>\n",
       "      <td>490000.0</td>\n",
       "      <td>157052.126941</td>\n",
       "      <td>138000.0</td>\n",
       "      <td>([125000.0], [28])</td>\n",
       "    </tr>\n",
       "  </tbody>\n",
       "</table>\n",
       "</div>"
      ],
      "text/plain": [
       "                                        min                max  \\\n",
       "                         Precio (U$S) final Precio (U$S) final   \n",
       "Provincia                                                        \n",
       "Bs.As. G.B.A. Zona Norte            35900.0           495000.0   \n",
       "Bs.As. G.B.A. Zona Oeste            36554.0           390000.0   \n",
       "Bs.As. G.B.A. Zona Sur              26821.0           490000.0   \n",
       "Capital Federal                     33800.0           490000.0   \n",
       "\n",
       "                                       mean             median  \\\n",
       "                         Precio (U$S) final Precio (U$S) final   \n",
       "Provincia                                                        \n",
       "Bs.As. G.B.A. Zona Norte      185959.388730           155250.0   \n",
       "Bs.As. G.B.A. Zona Oeste       95842.573394            80000.0   \n",
       "Bs.As. G.B.A. Zona Sur        122571.229333           100000.0   \n",
       "Capital Federal               157052.126941           138000.0   \n",
       "\n",
       "                                        mode  \n",
       "                          Precio (U$S) final  \n",
       "Provincia                                     \n",
       "Bs.As. G.B.A. Zona Norte  ([125000.0], [24])  \n",
       "Bs.As. G.B.A. Zona Oeste   ([75000.0], [31])  \n",
       "Bs.As. G.B.A. Zona Sur     ([85000.0], [23])  \n",
       "Capital Federal           ([125000.0], [28])  "
      ]
     },
     "execution_count": 90,
     "metadata": {},
     "output_type": "execute_result"
    }
   ],
   "source": [
    "# Vemos los datos de las propiedades a estrenar.\n",
    "\n",
    "pd.pivot_table(data=a_estrenar, values='Precio (U$S) final', index='Provincia', aggfunc=[min, max, np.mean, np.median, stats.mode])"
   ]
  },
  {
   "cell_type": "code",
   "execution_count": 91,
   "metadata": {},
   "outputs": [
    {
     "data": {
      "text/html": [
       "<div>\n",
       "<style scoped>\n",
       "    .dataframe tbody tr th:only-of-type {\n",
       "        vertical-align: middle;\n",
       "    }\n",
       "\n",
       "    .dataframe tbody tr th {\n",
       "        vertical-align: top;\n",
       "    }\n",
       "\n",
       "    .dataframe thead tr th {\n",
       "        text-align: left;\n",
       "    }\n",
       "\n",
       "    .dataframe thead tr:last-of-type th {\n",
       "        text-align: right;\n",
       "    }\n",
       "</style>\n",
       "<table border=\"1\" class=\"dataframe\">\n",
       "  <thead>\n",
       "    <tr>\n",
       "      <th></th>\n",
       "      <th>min</th>\n",
       "      <th>max</th>\n",
       "      <th>mean</th>\n",
       "      <th>median</th>\n",
       "      <th>mode</th>\n",
       "    </tr>\n",
       "    <tr>\n",
       "      <th></th>\n",
       "      <th>Precio (U$S) final</th>\n",
       "      <th>Precio (U$S) final</th>\n",
       "      <th>Precio (U$S) final</th>\n",
       "      <th>Precio (U$S) final</th>\n",
       "      <th>Precio (U$S) final</th>\n",
       "    </tr>\n",
       "    <tr>\n",
       "      <th>Provincia</th>\n",
       "      <th></th>\n",
       "      <th></th>\n",
       "      <th></th>\n",
       "      <th></th>\n",
       "      <th></th>\n",
       "    </tr>\n",
       "  </thead>\n",
       "  <tbody>\n",
       "    <tr>\n",
       "      <th>Bs.As. G.B.A. Zona Norte</th>\n",
       "      <td>28000.0</td>\n",
       "      <td>499000.0</td>\n",
       "      <td>205442.070453</td>\n",
       "      <td>175000.0</td>\n",
       "      <td>([250000.0], [124])</td>\n",
       "    </tr>\n",
       "    <tr>\n",
       "      <th>Bs.As. G.B.A. Zona Oeste</th>\n",
       "      <td>28000.0</td>\n",
       "      <td>495000.0</td>\n",
       "      <td>138620.311315</td>\n",
       "      <td>110000.0</td>\n",
       "      <td>([75000.0], [101])</td>\n",
       "    </tr>\n",
       "    <tr>\n",
       "      <th>Bs.As. G.B.A. Zona Sur</th>\n",
       "      <td>35000.0</td>\n",
       "      <td>499000.0</td>\n",
       "      <td>158114.640500</td>\n",
       "      <td>125000.0</td>\n",
       "      <td>([120000.0], [117])</td>\n",
       "    </tr>\n",
       "    <tr>\n",
       "      <th>Capital Federal</th>\n",
       "      <td>25935.0</td>\n",
       "      <td>499999.0</td>\n",
       "      <td>175011.455637</td>\n",
       "      <td>145000.0</td>\n",
       "      <td>([120000.0], [185])</td>\n",
       "    </tr>\n",
       "  </tbody>\n",
       "</table>\n",
       "</div>"
      ],
      "text/plain": [
       "                                        min                max  \\\n",
       "                         Precio (U$S) final Precio (U$S) final   \n",
       "Provincia                                                        \n",
       "Bs.As. G.B.A. Zona Norte            28000.0           499000.0   \n",
       "Bs.As. G.B.A. Zona Oeste            28000.0           495000.0   \n",
       "Bs.As. G.B.A. Zona Sur              35000.0           499000.0   \n",
       "Capital Federal                     25935.0           499999.0   \n",
       "\n",
       "                                       mean             median  \\\n",
       "                         Precio (U$S) final Precio (U$S) final   \n",
       "Provincia                                                        \n",
       "Bs.As. G.B.A. Zona Norte      205442.070453           175000.0   \n",
       "Bs.As. G.B.A. Zona Oeste      138620.311315           110000.0   \n",
       "Bs.As. G.B.A. Zona Sur        158114.640500           125000.0   \n",
       "Capital Federal               175011.455637           145000.0   \n",
       "\n",
       "                                         mode  \n",
       "                           Precio (U$S) final  \n",
       "Provincia                                      \n",
       "Bs.As. G.B.A. Zona Norte  ([250000.0], [124])  \n",
       "Bs.As. G.B.A. Zona Oeste   ([75000.0], [101])  \n",
       "Bs.As. G.B.A. Zona Sur    ([120000.0], [117])  \n",
       "Capital Federal           ([120000.0], [185])  "
      ]
     },
     "execution_count": 91,
     "metadata": {},
     "output_type": "execute_result"
    }
   ],
   "source": [
    "# Vemos los datos de las propiedades usadas\n",
    "\n",
    "pd.pivot_table(data=no_a_estrenar, values='Precio (U$S) final', index='Provincia', aggfunc=[min, max, np.mean, np.median, stats.mode])"
   ]
  },
  {
   "cell_type": "code",
   "execution_count": 92,
   "metadata": {},
   "outputs": [],
   "source": [
    "# Analizamos los ambientes de las propiedades más caras.\n",
    "\n",
    "serie_propiedades_amba = amba['Precio (U$S) final']\n",
    "propiedades_lujosas_mask = (serie_propiedades_amba >= 350000)\n",
    "propiedades_lujosas = amba.loc[propiedades_lujosas_mask, :]"
   ]
  },
  {
   "cell_type": "code",
   "execution_count": 93,
   "metadata": {},
   "outputs": [
    {
     "data": {
      "text/plain": [
       "Tipo de propiedad\n",
       "Casa            2.564567\n",
       "Departamento    2.950000\n",
       "Local           3.078947\n",
       "PH              3.328358\n",
       "Name: Ambientes descripción, dtype: float64"
      ]
     },
     "execution_count": 93,
     "metadata": {},
     "output_type": "execute_result"
    }
   ],
   "source": [
    "ambientes_lujosas = pd.to_numeric(propiedades_lujosas['Ambientes descripción']).groupby(amba['Tipo de propiedad'])\n",
    "ambientes_lujosas.mean()"
   ]
  },
  {
   "cell_type": "code",
   "execution_count": 94,
   "metadata": {},
   "outputs": [
    {
     "data": {
      "text/html": [
       "<div>\n",
       "<style scoped>\n",
       "    .dataframe tbody tr th:only-of-type {\n",
       "        vertical-align: middle;\n",
       "    }\n",
       "\n",
       "    .dataframe tbody tr th {\n",
       "        vertical-align: top;\n",
       "    }\n",
       "\n",
       "    .dataframe thead th {\n",
       "        text-align: right;\n",
       "    }\n",
       "</style>\n",
       "<table border=\"1\" class=\"dataframe\">\n",
       "  <thead>\n",
       "    <tr style=\"text-align: right;\">\n",
       "      <th></th>\n",
       "      <th>Precio (U$S) final</th>\n",
       "      <th>Superficie total en m2</th>\n",
       "      <th>Precio U$S por m2</th>\n",
       "      <th>Superficie cubierta en m2</th>\n",
       "    </tr>\n",
       "  </thead>\n",
       "  <tbody>\n",
       "    <tr>\n",
       "      <th>Precio (U$S) final</th>\n",
       "      <td>1.000000</td>\n",
       "      <td>0.249388</td>\n",
       "      <td>0.216881</td>\n",
       "      <td>0.243903</td>\n",
       "    </tr>\n",
       "    <tr>\n",
       "      <th>Superficie total en m2</th>\n",
       "      <td>0.249388</td>\n",
       "      <td>1.000000</td>\n",
       "      <td>-0.239696</td>\n",
       "      <td>0.373411</td>\n",
       "    </tr>\n",
       "    <tr>\n",
       "      <th>Precio U$S por m2</th>\n",
       "      <td>0.216881</td>\n",
       "      <td>-0.239696</td>\n",
       "      <td>1.000000</td>\n",
       "      <td>-0.294022</td>\n",
       "    </tr>\n",
       "    <tr>\n",
       "      <th>Superficie cubierta en m2</th>\n",
       "      <td>0.243903</td>\n",
       "      <td>0.373411</td>\n",
       "      <td>-0.294022</td>\n",
       "      <td>1.000000</td>\n",
       "    </tr>\n",
       "  </tbody>\n",
       "</table>\n",
       "</div>"
      ],
      "text/plain": [
       "                           Precio (U$S) final  Superficie total en m2  \\\n",
       "Precio (U$S) final                   1.000000                0.249388   \n",
       "Superficie total en m2               0.249388                1.000000   \n",
       "Precio U$S por m2                    0.216881               -0.239696   \n",
       "Superficie cubierta en m2            0.243903                0.373411   \n",
       "\n",
       "                           Precio U$S por m2  Superficie cubierta en m2  \n",
       "Precio (U$S) final                  0.216881                   0.243903  \n",
       "Superficie total en m2             -0.239696                   0.373411  \n",
       "Precio U$S por m2                   1.000000                  -0.294022  \n",
       "Superficie cubierta en m2          -0.294022                   1.000000  "
      ]
     },
     "execution_count": 94,
     "metadata": {},
     "output_type": "execute_result"
    }
   ],
   "source": [
    "# Creamos una matriz de correlación para ver tendencias subyacentes entre variables.\n",
    "\n",
    "amba_filtrada_subset = amba[['Precio (U$S) final', 'Superficie total en m2', 'Ambientes descripción', 'Precio U$S por m2', 'Superficie cubierta en m2']]\n",
    "\n",
    "corr_matrix = amba_filtrada_subset.corr()\n",
    "corr_matrix"
   ]
  },
  {
   "cell_type": "code",
   "execution_count": 95,
   "metadata": {
    "scrolled": true
   },
   "outputs": [
    {
     "data": {
      "image/png": "[encoded data removed]",
      "text/plain": [
       "<Figure size 432x288 with 2 Axes>"
      ]
     },
     "metadata": {},
     "output_type": "display_data"
    }
   ],
   "source": [
    "# Heatmap\n",
    "\n",
    "sns.heatmap(corr_matrix, annot=True)\n",
    "plt.show()"
   ]
  },
  {
   "cell_type": "markdown",
   "metadata": {},
   "source": [
    "# Conclusiones\n",
    "\n",
    "Finalizado el trabajo de limpieza del dataset y realizadas las visualizaciones correspondientes a los aspectos que más nos interesaban, podemos extraer algunas conclusiones interesantes de nuestros resultados.\n",
    "\n",
    "* G.B.A. Zona Norte es la zona más cara de las cuatro en cuanto a mediana y amplitud de valores en el bigote superior del boxplot. Esto es razonable: la zona norte del Gran Buenos Aires siempre fue conocida por contener algunas de las localidades más costosas, como Olivos, Martínez y Vicente López, entre otras.\n",
    "* G.B.A. Sur y Oeste tienen rangos de precios más limitados, pero muchos outliers. Es decir, la mayoría de sus valores se concentran en propiedades más bien baratas, pero existe la posibilidad de encontrar otras con precios muchísimo más elevados. Parecieran ser las zonas con más opciones para elegir para más gente.\n",
    "* Los locales y las casas son en promedio casi el doble de caras que los PH y los departamentos. Sorprendentemente, esto no se trata porque tengan muchos más ambientes: las casas tienen en promedio 2,8 ambientes, lo mismo que los PH y apenas 0.6 ambientes más que los departamentos en promedio. Sin embargo, las casas suelen ser más grandes y no comparten el terreno con otros inquilinos, algo que suele ser valorado por quienes compran ese tipo de propiedades.\n",
    "* Las variables analizadas no tienen fuertes correlaciones entre ellas. Hay algunas levemente positivas y otras levemente negativas, pero ninguna correlación directa o inversa destacable. Sin embargo, hay una correlación inversa que nos llamó la atención: a mayor cantidad de metros cuadrados, menor valor por metro cuadrado. Al principio pensamos que no tenía mucho sentido, pero si bien hay una relación directa entre precio total y cantidad de metros cuadrados, si una propiedad es muy grande es más difícil venderla en su valor real por metro cuadrado porque requiere un comprador con mucho dinero.\n",
    "* La mayor cantidad de propiedades en esta zona se encuentran en el rango de los U$S 80.000 a los U$S 200.000. Dado que la media y la mediana de ambientes se encuentran entre 2 y 3 para esta zona y que las propiedades de esa cantidad de ambientes históricamente tienen ese valor en el AMBA, interpretamos que de allí surgen esos valores. Las propiedades significativamente más caras, consideradas de los U$S350.000 en adelante, tienen más ambientes (en promedio hasta uno más) excepto en el caso de las casas.\n",
    "* Los valores de las propiedades a estrenar son, en promedio, más bajos que los de las casas usadas. Aunque esto pareciera ser contraintuitivo, los emprendimientos inmobiliarios rara vez son para construcción de casas sino de departamentos más bien pequeños y fáciles de vender. En efecto, los precios promedio de las propiedades a estrenar se acercan más a los valores de departamentos de dos ambientes.\n"
   ]
  }
 ],
 "metadata": {
  "kernelspec": {
   "display_name": "Python 3",
   "language": "python",
   "name": "python3"
  },
  "language_info": {
   "codemirror_mode": {
    "name": "ipython",
    "version": 3
   },
   "file_extension": ".py",
   "mimetype": "text/x-python",
   "name": "python",
   "nbconvert_exporter": "python",
   "pygments_lexer": "ipython3",
   "version": "3.7.9"
  }
 },
 "nbformat": 4,
 "nbformat_minor": 4
}
